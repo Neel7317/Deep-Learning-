{
  "nbformat": 4,
  "nbformat_minor": 0,
  "metadata": {
    "colab": {
      "name": "Contentbased Movie Rec-Sys.ipynb",
      "provenance": [],
      "collapsed_sections": [],
      "authorship_tag": "ABX9TyMjgDPhgMxvJnOtfJK6yc6v",
      "include_colab_link": true
    },
    "kernelspec": {
      "name": "python3",
      "display_name": "Python 3"
    }
  },
  "cells": [
    {
      "cell_type": "markdown",
      "metadata": {
        "id": "view-in-github",
        "colab_type": "text"
      },
      "source": [
        "<a href=\"https://colab.research.google.com/github/Neel7317/Deep-Learning-/blob/master/Contentbased_Movie_Recommender_System.ipynb\" target=\"_parent\"><img src=\"https://colab.research.google.com/assets/colab-badge.svg\" alt=\"Open In Colab\"/></a>"
      ]
    },
    {
      "cell_type": "code",
      "metadata": {
        "id": "qFGh60tYK2Wf",
        "colab_type": "code",
        "colab": {}
      },
      "source": [
        "##a"
      ],
      "execution_count": null,
      "outputs": []
    },
    {
      "cell_type": "code",
      "metadata": {
        "id": "T2omDQiHJiBp",
        "colab_type": "code",
        "colab": {
          "base_uri": "https://localhost:8080/",
          "height": 143
        },
        "outputId": "a1595a2c-ae42-400c-9452-42d0842f7809"
      },
      "source": [
        "import pandas as pd\n",
        "import numpy as np\n",
        "from sklearn.feature_extraction.text import CountVectorizer\n",
        "from sklearn.metrics.pairwise import cosine_similarity\n",
        "df = pd.read_csv(\"movie_dataset.csv\")\n",
        "features = ['keywords','cast','genres','director']\n",
        "def combine_features(row):\n",
        "    return row['keywords'] +\" \"+row['cast']+\" \"+row[\"genres\"]+\" \"+row[\"director\"]\n",
        "for feature in features:\n",
        "    df[feature] = df[feature].fillna('')\n",
        "df[\"combined_features\"] = df.apply(combine_features,axis=1)\n",
        "cv = CountVectorizer()\n",
        "count_matrix = cv.fit_transform(df[\"combined_features\"])\n",
        "cosine_sim = cosine_similarity(count_matrix)\n",
        "def get_title_from_index(index):\n",
        "    return df[df.index == index][\"title\"].values[0]\n",
        "def get_index_from_title(title):\n",
        "    return df[df.title == title][\"index\"].values[0]\n",
        "movie_user_likes = \"Spectre\"\n",
        "movie_index = get_index_from_title(movie_user_likes)\n",
        "similar_movies =  list(enumerate(cosine_sim[movie_index]))\n",
        "sorted_similar_movies = sorted(similar_movies,key=lambda x:x[1],reverse=True)[1:]\n",
        "i=0\n",
        "print(\"Top 5 similar movies to \"+movie_user_likes+\" are:\\n\")\n",
        "for element in sorted_similar_movies:\n",
        "    print(get_title_from_index(element[0]))\n",
        "    i=i+1\n",
        "    if i>=5:\n",
        "        break"
      ],
      "execution_count": null,
      "outputs": [
        {
          "output_type": "stream",
          "text": [
            "Top 5 similar movies to Spectre are:\n",
            "\n",
            "Skyfall\n",
            "Quantum of Solace\n",
            "The Girl with the Dragon Tattoo\n",
            "The Hunger Games: Catching Fire\n",
            "Johnny English Reborn\n"
          ],
          "name": "stdout"
        }
      ]
    },
    {
      "cell_type": "code",
      "metadata": {
        "id": "Y_wSmyRNN1ph",
        "colab_type": "code",
        "colab": {
          "base_uri": "https://localhost:8080/",
          "height": 232
        },
        "outputId": "e5a74f28-876c-4567-85cc-f3a494ce80dd"
      },
      "source": [
        "df.title"
      ],
      "execution_count": null,
      "outputs": [
        {
          "output_type": "execute_result",
          "data": {
            "text/plain": [
              "0                                         Avatar\n",
              "1       Pirates of the Caribbean: At World's End\n",
              "2                                        Spectre\n",
              "3                          The Dark Knight Rises\n",
              "4                                    John Carter\n",
              "                          ...                   \n",
              "4798                                 El Mariachi\n",
              "4799                                   Newlyweds\n",
              "4800                   Signed, Sealed, Delivered\n",
              "4801                            Shanghai Calling\n",
              "4802                           My Date with Drew\n",
              "Name: title, Length: 4803, dtype: object"
            ]
          },
          "metadata": {
            "tags": []
          },
          "execution_count": 11
        }
      ]
    },
    {
      "cell_type": "code",
      "metadata": {
        "id": "Pf_P7_cJO52W",
        "colab_type": "code",
        "colab": {}
      },
      "source": [
        ""
      ],
      "execution_count": null,
      "outputs": []
    }
  ]
}