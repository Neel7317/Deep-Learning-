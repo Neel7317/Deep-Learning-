{
  "nbformat": 4,
  "nbformat_minor": 0,
  "metadata": {
    "colab": {
      "name": "StockPredictionLSTM.ipynb",
      "provenance": [],
      "authorship_tag": "ABX9TyPu+UzBawqx2ZyPdXkR1g1/",
      "include_colab_link": true
    },
    "kernelspec": {
      "name": "python3",
      "display_name": "Python 3"
    },
    "accelerator": "GPU"
  },
  "cells": [
    {
      "cell_type": "markdown",
      "metadata": {
        "id": "view-in-github",
        "colab_type": "text"
      },
      "source": [
        "<a href=\"https://colab.research.google.com/github/Neel7317/Deep-Learning-/blob/master/StockPredictionLSTM.ipynb\" target=\"_parent\"><img src=\"https://colab.research.google.com/assets/colab-badge.svg\" alt=\"Open In Colab\"/></a>"
      ]
    },
    {
      "cell_type": "code",
      "metadata": {
        "id": "dFhuXJFVeZdL"
      },
      "source": [
        "import pandas as pd"
      ],
      "execution_count": 18,
      "outputs": []
    },
    {
      "cell_type": "code",
      "metadata": {
        "id": "i5-zmf-kh7aB"
      },
      "source": [
        "import pandas_datareader as pdr"
      ],
      "execution_count": 19,
      "outputs": []
    },
    {
      "cell_type": "code",
      "metadata": {
        "id": "6JmzdfsniGSj"
      },
      "source": [
        "df=pdr.get_data_tiingo('AAPL',api_key='07c26b4cfb8c9b34291c77fe6f98cfcd152c2e54')"
      ],
      "execution_count": 20,
      "outputs": []
    },
    {
      "cell_type": "code",
      "metadata": {
        "id": "1nWIsPs_ii6G"
      },
      "source": [
        "df.to_csv('AAPL.csv')"
      ],
      "execution_count": 21,
      "outputs": []
    },
    {
      "cell_type": "code",
      "metadata": {
        "id": "NLDLKkSjx3uC"
      },
      "source": [
        "df=pd.read_csv('AAPL.csv')"
      ],
      "execution_count": 57,
      "outputs": []
    },
    {
      "cell_type": "code",
      "metadata": {
        "colab": {
          "base_uri": "https://localhost:8080/",
          "height": 279
        },
        "id": "y0fZNQWyx-IY",
        "outputId": "5563b5d0-8b01-486a-8b98-ed2cb0eb295e"
      },
      "source": [
        "df.head()"
      ],
      "execution_count": 58,
      "outputs": [
        {
          "output_type": "execute_result",
          "data": {
            "text/html": [
              "<div>\n",
              "<style scoped>\n",
              "    .dataframe tbody tr th:only-of-type {\n",
              "        vertical-align: middle;\n",
              "    }\n",
              "\n",
              "    .dataframe tbody tr th {\n",
              "        vertical-align: top;\n",
              "    }\n",
              "\n",
              "    .dataframe thead th {\n",
              "        text-align: right;\n",
              "    }\n",
              "</style>\n",
              "<table border=\"1\" class=\"dataframe\">\n",
              "  <thead>\n",
              "    <tr style=\"text-align: right;\">\n",
              "      <th></th>\n",
              "      <th>symbol</th>\n",
              "      <th>date</th>\n",
              "      <th>close</th>\n",
              "      <th>high</th>\n",
              "      <th>low</th>\n",
              "      <th>open</th>\n",
              "      <th>volume</th>\n",
              "      <th>adjClose</th>\n",
              "      <th>adjHigh</th>\n",
              "      <th>adjLow</th>\n",
              "      <th>adjOpen</th>\n",
              "      <th>adjVolume</th>\n",
              "      <th>divCash</th>\n",
              "      <th>splitFactor</th>\n",
              "    </tr>\n",
              "  </thead>\n",
              "  <tbody>\n",
              "    <tr>\n",
              "      <th>0</th>\n",
              "      <td>AAPL</td>\n",
              "      <td>2016-02-01 00:00:00+00:00</td>\n",
              "      <td>96.43</td>\n",
              "      <td>96.71</td>\n",
              "      <td>95.40</td>\n",
              "      <td>96.47</td>\n",
              "      <td>40943541</td>\n",
              "      <td>22.332087</td>\n",
              "      <td>22.396932</td>\n",
              "      <td>22.093551</td>\n",
              "      <td>22.341350</td>\n",
              "      <td>163774164</td>\n",
              "      <td>0.00</td>\n",
              "      <td>1.0</td>\n",
              "    </tr>\n",
              "    <tr>\n",
              "      <th>1</th>\n",
              "      <td>AAPL</td>\n",
              "      <td>2016-02-02 00:00:00+00:00</td>\n",
              "      <td>94.48</td>\n",
              "      <td>96.04</td>\n",
              "      <td>94.28</td>\n",
              "      <td>95.42</td>\n",
              "      <td>37357215</td>\n",
              "      <td>21.880489</td>\n",
              "      <td>22.241767</td>\n",
              "      <td>21.834171</td>\n",
              "      <td>22.098182</td>\n",
              "      <td>149428860</td>\n",
              "      <td>0.00</td>\n",
              "      <td>1.0</td>\n",
              "    </tr>\n",
              "    <tr>\n",
              "      <th>2</th>\n",
              "      <td>AAPL</td>\n",
              "      <td>2016-02-03 00:00:00+00:00</td>\n",
              "      <td>96.35</td>\n",
              "      <td>96.84</td>\n",
              "      <td>94.08</td>\n",
              "      <td>95.00</td>\n",
              "      <td>45964294</td>\n",
              "      <td>22.313560</td>\n",
              "      <td>22.427038</td>\n",
              "      <td>21.787854</td>\n",
              "      <td>22.000915</td>\n",
              "      <td>183857176</td>\n",
              "      <td>0.00</td>\n",
              "      <td>1.0</td>\n",
              "    </tr>\n",
              "    <tr>\n",
              "      <th>3</th>\n",
              "      <td>AAPL</td>\n",
              "      <td>2016-02-04 00:00:00+00:00</td>\n",
              "      <td>96.60</td>\n",
              "      <td>97.33</td>\n",
              "      <td>95.19</td>\n",
              "      <td>95.86</td>\n",
              "      <td>46471652</td>\n",
              "      <td>22.491883</td>\n",
              "      <td>22.661853</td>\n",
              "      <td>22.163585</td>\n",
              "      <td>22.319585</td>\n",
              "      <td>185886608</td>\n",
              "      <td>0.52</td>\n",
              "      <td>1.0</td>\n",
              "    </tr>\n",
              "    <tr>\n",
              "      <th>4</th>\n",
              "      <td>AAPL</td>\n",
              "      <td>2016-02-05 00:00:00+00:00</td>\n",
              "      <td>94.02</td>\n",
              "      <td>96.92</td>\n",
              "      <td>93.69</td>\n",
              "      <td>96.52</td>\n",
              "      <td>46418064</td>\n",
              "      <td>21.891168</td>\n",
              "      <td>22.566390</td>\n",
              "      <td>21.814333</td>\n",
              "      <td>22.473256</td>\n",
              "      <td>185672256</td>\n",
              "      <td>0.00</td>\n",
              "      <td>1.0</td>\n",
              "    </tr>\n",
              "  </tbody>\n",
              "</table>\n",
              "</div>"
            ],
            "text/plain": [
              "  symbol                       date  close  ...  adjVolume  divCash  splitFactor\n",
              "0   AAPL  2016-02-01 00:00:00+00:00  96.43  ...  163774164     0.00          1.0\n",
              "1   AAPL  2016-02-02 00:00:00+00:00  94.48  ...  149428860     0.00          1.0\n",
              "2   AAPL  2016-02-03 00:00:00+00:00  96.35  ...  183857176     0.00          1.0\n",
              "3   AAPL  2016-02-04 00:00:00+00:00  96.60  ...  185886608     0.52          1.0\n",
              "4   AAPL  2016-02-05 00:00:00+00:00  94.02  ...  185672256     0.00          1.0\n",
              "\n",
              "[5 rows x 14 columns]"
            ]
          },
          "metadata": {
            "tags": []
          },
          "execution_count": 58
        }
      ]
    },
    {
      "cell_type": "code",
      "metadata": {
        "colab": {
          "base_uri": "https://localhost:8080/",
          "height": 279
        },
        "id": "lmhIq1AqyA-E",
        "outputId": "27c78ce7-bc35-4e65-bba2-ea6f49b0bec5"
      },
      "source": [
        "df.tail()"
      ],
      "execution_count": 59,
      "outputs": [
        {
          "output_type": "execute_result",
          "data": {
            "text/html": [
              "<div>\n",
              "<style scoped>\n",
              "    .dataframe tbody tr th:only-of-type {\n",
              "        vertical-align: middle;\n",
              "    }\n",
              "\n",
              "    .dataframe tbody tr th {\n",
              "        vertical-align: top;\n",
              "    }\n",
              "\n",
              "    .dataframe thead th {\n",
              "        text-align: right;\n",
              "    }\n",
              "</style>\n",
              "<table border=\"1\" class=\"dataframe\">\n",
              "  <thead>\n",
              "    <tr style=\"text-align: right;\">\n",
              "      <th></th>\n",
              "      <th>symbol</th>\n",
              "      <th>date</th>\n",
              "      <th>close</th>\n",
              "      <th>high</th>\n",
              "      <th>low</th>\n",
              "      <th>open</th>\n",
              "      <th>volume</th>\n",
              "      <th>adjClose</th>\n",
              "      <th>adjHigh</th>\n",
              "      <th>adjLow</th>\n",
              "      <th>adjOpen</th>\n",
              "      <th>adjVolume</th>\n",
              "      <th>divCash</th>\n",
              "      <th>splitFactor</th>\n",
              "    </tr>\n",
              "  </thead>\n",
              "  <tbody>\n",
              "    <tr>\n",
              "      <th>1253</th>\n",
              "      <td>AAPL</td>\n",
              "      <td>2021-01-22 00:00:00+00:00</td>\n",
              "      <td>139.07</td>\n",
              "      <td>139.85</td>\n",
              "      <td>135.02</td>\n",
              "      <td>136.28</td>\n",
              "      <td>114459360</td>\n",
              "      <td>139.07</td>\n",
              "      <td>139.85</td>\n",
              "      <td>135.02</td>\n",
              "      <td>136.28</td>\n",
              "      <td>114459360</td>\n",
              "      <td>0.0</td>\n",
              "      <td>1.0</td>\n",
              "    </tr>\n",
              "    <tr>\n",
              "      <th>1254</th>\n",
              "      <td>AAPL</td>\n",
              "      <td>2021-01-25 00:00:00+00:00</td>\n",
              "      <td>142.92</td>\n",
              "      <td>145.09</td>\n",
              "      <td>136.54</td>\n",
              "      <td>143.07</td>\n",
              "      <td>157611713</td>\n",
              "      <td>142.92</td>\n",
              "      <td>145.09</td>\n",
              "      <td>136.54</td>\n",
              "      <td>143.07</td>\n",
              "      <td>157611713</td>\n",
              "      <td>0.0</td>\n",
              "      <td>1.0</td>\n",
              "    </tr>\n",
              "    <tr>\n",
              "      <th>1255</th>\n",
              "      <td>AAPL</td>\n",
              "      <td>2021-01-26 00:00:00+00:00</td>\n",
              "      <td>143.16</td>\n",
              "      <td>144.30</td>\n",
              "      <td>141.37</td>\n",
              "      <td>143.60</td>\n",
              "      <td>98390555</td>\n",
              "      <td>143.16</td>\n",
              "      <td>144.30</td>\n",
              "      <td>141.37</td>\n",
              "      <td>143.60</td>\n",
              "      <td>98390555</td>\n",
              "      <td>0.0</td>\n",
              "      <td>1.0</td>\n",
              "    </tr>\n",
              "    <tr>\n",
              "      <th>1256</th>\n",
              "      <td>AAPL</td>\n",
              "      <td>2021-01-27 00:00:00+00:00</td>\n",
              "      <td>142.06</td>\n",
              "      <td>144.30</td>\n",
              "      <td>140.41</td>\n",
              "      <td>143.43</td>\n",
              "      <td>140843759</td>\n",
              "      <td>142.06</td>\n",
              "      <td>144.30</td>\n",
              "      <td>140.41</td>\n",
              "      <td>143.43</td>\n",
              "      <td>140843759</td>\n",
              "      <td>0.0</td>\n",
              "      <td>1.0</td>\n",
              "    </tr>\n",
              "    <tr>\n",
              "      <th>1257</th>\n",
              "      <td>AAPL</td>\n",
              "      <td>2021-01-28 00:00:00+00:00</td>\n",
              "      <td>137.09</td>\n",
              "      <td>141.99</td>\n",
              "      <td>136.70</td>\n",
              "      <td>139.52</td>\n",
              "      <td>142621128</td>\n",
              "      <td>137.09</td>\n",
              "      <td>141.99</td>\n",
              "      <td>136.70</td>\n",
              "      <td>139.52</td>\n",
              "      <td>142621128</td>\n",
              "      <td>0.0</td>\n",
              "      <td>1.0</td>\n",
              "    </tr>\n",
              "  </tbody>\n",
              "</table>\n",
              "</div>"
            ],
            "text/plain": [
              "     symbol                       date   close  ...  adjVolume  divCash  splitFactor\n",
              "1253   AAPL  2021-01-22 00:00:00+00:00  139.07  ...  114459360      0.0          1.0\n",
              "1254   AAPL  2021-01-25 00:00:00+00:00  142.92  ...  157611713      0.0          1.0\n",
              "1255   AAPL  2021-01-26 00:00:00+00:00  143.16  ...   98390555      0.0          1.0\n",
              "1256   AAPL  2021-01-27 00:00:00+00:00  142.06  ...  140843759      0.0          1.0\n",
              "1257   AAPL  2021-01-28 00:00:00+00:00  137.09  ...  142621128      0.0          1.0\n",
              "\n",
              "[5 rows x 14 columns]"
            ]
          },
          "metadata": {
            "tags": []
          },
          "execution_count": 59
        }
      ]
    },
    {
      "cell_type": "code",
      "metadata": {
        "id": "eYN7a0VGyxzh"
      },
      "source": [
        "\r\n",
        "df1=df.reset_index()['high']"
      ],
      "execution_count": 61,
      "outputs": []
    },
    {
      "cell_type": "code",
      "metadata": {
        "colab": {
          "base_uri": "https://localhost:8080/"
        },
        "id": "rzkWHy59y7n-",
        "outputId": "f699925c-eeb9-4a19-9110-bca940efcf2d"
      },
      "source": [
        "df1"
      ],
      "execution_count": 56,
      "outputs": [
        {
          "output_type": "execute_result",
          "data": {
            "text/plain": [
              "0        96.71\n",
              "1        96.04\n",
              "2        96.84\n",
              "3        97.33\n",
              "4        96.92\n",
              "         ...  \n",
              "1253    139.85\n",
              "1254    145.09\n",
              "1255    144.30\n",
              "1256    144.30\n",
              "1257    141.99\n",
              "Name: high, Length: 1258, dtype: float64"
            ]
          },
          "metadata": {
            "tags": []
          },
          "execution_count": 56
        }
      ]
    },
    {
      "cell_type": "code",
      "metadata": {
        "colab": {
          "base_uri": "https://localhost:8080/",
          "height": 282
        },
        "id": "1nugAbfcy8su",
        "outputId": "4068b45d-4342-4e49-8552-829b3ae2d219"
      },
      "source": [
        "import matplotlib.pyplot as plt\r\n",
        "plt.plot(df1)"
      ],
      "execution_count": 62,
      "outputs": [
        {
          "output_type": "execute_result",
          "data": {
            "text/plain": [
              "[<matplotlib.lines.Line2D at 0x7fe84430b208>]"
            ]
          },
          "metadata": {
            "tags": []
          },
          "execution_count": 62
        },
        {
          "output_type": "display_data",
          "data": {
            "image/png": "[encoded data removed]",
            "text/plain": [
              "<Figure size 432x288 with 1 Axes>"
            ]
          },
          "metadata": {
            "tags": [],
            "needs_background": "light"
          }
        }
      ]
    },
    {
      "cell_type": "code",
      "metadata": {
        "id": "9HjIiQd4zO4Q"
      },
      "source": [
        "### LSTM are sensitive to the scale of the data. so we apply MinMax scaler"
      ],
      "execution_count": 63,
      "outputs": []
    },
    {
      "cell_type": "code",
      "metadata": {
        "id": "snm8Su8Czfro"
      },
      "source": [
        "from sklearn.preprocessing import MinMaxScaler\r\n",
        "import numpy as np\r\n",
        "\r\n",
        "scaler=MinMaxScaler(feature_range=(0,1))#scale value between 0 to 1\r\n",
        "df1=scaler.fit_transform(np.array(df1).reshape(-1,1))#reshap the value\r\n"
      ],
      "execution_count": 65,
      "outputs": []
    },
    {
      "cell_type": "code",
      "metadata": {
        "colab": {
          "base_uri": "https://localhost:8080/"
        },
        "id": "YKW-CJ9Iz95K",
        "outputId": "eee31818-5703-4c3d-cb9c-2a8ce8fc8912"
      },
      "source": [
        "df1"
      ],
      "execution_count": 66,
      "outputs": [
        {
          "output_type": "execute_result",
          "data": {
            "text/plain": [
              "array([[0.01190167],\n",
              "       [0.0103195 ],\n",
              "       [0.01220866],\n",
              "       ...,\n",
              "       [0.12428271],\n",
              "       [0.12428271],\n",
              "       [0.11882778]])"
            ]
          },
          "metadata": {
            "tags": []
          },
          "execution_count": 66
        }
      ]
    },
    {
      "cell_type": "code",
      "metadata": {
        "id": "vby09M9o0HwU"
      },
      "source": [
        "#splitting data into train and test sample\r\n",
        "training_size=int(len(df1)*0.65)\r\n",
        "testing_size=df1-training_size\r\n",
        "\r\n",
        "train_data,test_data=df1[0:training_size,:],df1[training_size:,:]"
      ],
      "execution_count": 76,
      "outputs": []
    },
    {
      "cell_type": "code",
      "metadata": {
        "colab": {
          "base_uri": "https://localhost:8080/"
        },
        "id": "TnYzMQfX82nO",
        "outputId": "9a35dfea-ec9a-4484-abc8-ccd0f0a59b2e"
      },
      "source": [
        "test_data"
      ],
      "execution_count": 77,
      "outputs": [
        {
          "output_type": "execute_result",
          "data": {
            "text/plain": [
              "array([[0.29196873],\n",
              "       [0.2856873 ],\n",
              "       [0.28377453],\n",
              "       [0.2766902 ],\n",
              "       [0.27333695],\n",
              "       [0.26842515],\n",
              "       [0.25978228],\n",
              "       [0.25309939],\n",
              "       [0.23097268],\n",
              "       [0.2314922 ],\n",
              "       [0.23633315],\n",
              "       [0.23803339],\n",
              "       [0.23432593],\n",
              "       [0.21885848],\n",
              "       [0.22747774],\n",
              "       [0.22207004],\n",
              "       [0.20986138],\n",
              "       [0.21363969],\n",
              "       [0.20997946],\n",
              "       [0.20705127],\n",
              "       [0.20676789],\n",
              "       [0.20383971],\n",
              "       [0.2036744 ],\n",
              "       [0.20818476],\n",
              "       [0.2203698 ],\n",
              "       [0.22150329],\n",
              "       [0.2367346 ],\n",
              "       [0.24488157],\n",
              "       [0.24636928],\n",
              "       [0.24629844],\n",
              "       [0.24823482],\n",
              "       [0.24067821],\n",
              "       [0.24391338],\n",
              "       [0.25649987],\n",
              "       [0.25553168],\n",
              "       [0.25725553],\n",
              "       [0.25782228],\n",
              "       [0.25619288],\n",
              "       [0.25406758],\n",
              "       [0.25815288],\n",
              "       [0.25952252],\n",
              "       [0.25463433],\n",
              "       [0.26641793],\n",
              "       [0.26320637],\n",
              "       [0.26629986],\n",
              "       [0.26781118],\n",
              "       [0.25912107],\n",
              "       [0.25938083],\n",
              "       [0.26462323],\n",
              "       [0.26618178],\n",
              "       [0.26526082],\n",
              "       [0.26967672],\n",
              "       [0.27024346],\n",
              "       [0.26783479],\n",
              "       [0.26970033],\n",
              "       [0.27116443],\n",
              "       [0.27288828],\n",
              "       [0.2768555 ],\n",
              "       [0.27742225],\n",
              "       [0.27763478],\n",
              "       [0.27879189],\n",
              "       [0.2809408 ],\n",
              "       [0.27980731],\n",
              "       [0.30627908],\n",
              "       [0.29839186],\n",
              "       [0.27099913],\n",
              "       [0.2526271 ],\n",
              "       [0.25125747],\n",
              "       [0.25477602],\n",
              "       [0.26415094],\n",
              "       [0.26233263],\n",
              "       [0.26065601],\n",
              "       [0.28448296],\n",
              "       [0.27102274],\n",
              "       [0.26795287],\n",
              "       [0.27272298],\n",
              "       [0.28587621],\n",
              "       [0.28734031],\n",
              "       [0.28804874],\n",
              "       [0.28991428],\n",
              "       [0.28427043],\n",
              "       [0.27279382],\n",
              "       [0.27600538],\n",
              "       [0.2693225 ],\n",
              "       [0.27782369],\n",
              "       [0.28049212],\n",
              "       [0.27229792],\n",
              "       [0.27820153],\n",
              "       [0.2888044 ],\n",
              "       [0.28986705],\n",
              "       [0.29463716],\n",
              "       [0.29544005],\n",
              "       [0.31180485],\n",
              "       [0.31820436],\n",
              "       [0.30490944],\n",
              "       [0.30335089],\n",
              "       [0.30498028],\n",
              "       [0.30977401],\n",
              "       [0.31192292],\n",
              "       [0.30908919],\n",
              "       [0.30266607],\n",
              "       [0.30892389],\n",
              "       [0.30658606],\n",
              "       [0.30526366],\n",
              "       [0.30531088],\n",
              "       [0.31385931],\n",
              "       [0.32245496],\n",
              "       [0.31149786],\n",
              "       [0.30531088],\n",
              "       [0.3207311 ],\n",
              "       [0.32649302],\n",
              "       [0.32207712],\n",
              "       [0.32143954],\n",
              "       [0.32769736],\n",
              "       [0.34469974],\n",
              "       [0.34585685],\n",
              "       [0.34472336],\n",
              "       [0.33903228],\n",
              "       [0.34118119],\n",
              "       [0.34455806],\n",
              "       [0.35261057],\n",
              "       [0.35546792],\n",
              "       [0.35792382],\n",
              "       [0.36160767],\n",
              "       [0.36616525],\n",
              "       [0.37211609],\n",
              "       [0.37329681],\n",
              "       [0.36278839],\n",
              "       [0.37192717],\n",
              "       [0.38789052],\n",
              "       [0.39242449],\n",
              "       [0.39322738],\n",
              "       [0.39157437],\n",
              "       [0.3983281 ],\n",
              "       [0.39854063],\n",
              "       [0.40333436],\n",
              "       [0.40409002],\n",
              "       [0.40878929],\n",
              "       [0.40902543],\n",
              "       [0.41115073],\n",
              "       [0.41504711],\n",
              "       [0.41639313],\n",
              "       [0.41185916],\n",
              "       [0.40697098],\n",
              "       [0.40501098],\n",
              "       [0.41270928],\n",
              "       [0.41440952],\n",
              "       [0.4163459 ],\n",
              "       [0.41639313],\n",
              "       [0.41698349],\n",
              "       [0.39639172],\n",
              "       [0.40531797],\n",
              "       [0.41141049],\n",
              "       [0.42347746],\n",
              "       [0.42300517],\n",
              "       [0.42128132],\n",
              "       [0.4237136 ],\n",
              "       [0.42716131],\n",
              "       [0.43363166],\n",
              "       [0.44659598],\n",
              "       [0.44891019],\n",
              "       [0.44921718],\n",
              "       [0.44751694],\n",
              "       [0.45098826],\n",
              "       [0.45476657],\n",
              "       [0.45627789],\n",
              "       [0.46829764],\n",
              "       [0.47771979],\n",
              "       [0.47469715],\n",
              "       [0.47703497],\n",
              "       [0.49337615],\n",
              "       [0.49332893],\n",
              "       [0.49186483],\n",
              "       [0.49408459],\n",
              "       [0.50244409],\n",
              "       [0.51658913],\n",
              "       [0.52187876],\n",
              "       [0.53226911],\n",
              "       [0.53344983],\n",
              "       [0.52856165],\n",
              "       [0.52903393],\n",
              "       [0.53621272],\n",
              "       [0.53687392],\n",
              "       [0.53916452],\n",
              "       [0.5381491 ],\n",
              "       [0.54705174],\n",
              "       [0.51975347],\n",
              "       [0.53540983],\n",
              "       [0.55772546],\n",
              "       [0.54884644],\n",
              "       [0.5455168 ],\n",
              "       [0.52381515],\n",
              "       [0.53833802],\n",
              "       [0.5504286 ],\n",
              "       [0.55151487],\n",
              "       [0.54721704],\n",
              "       [0.54284837],\n",
              "       [0.54839776],\n",
              "       [0.55623775],\n",
              "       [0.55387631],\n",
              "       [0.55330956],\n",
              "       [0.53859778],\n",
              "       [0.54997993],\n",
              "       [0.55016884],\n",
              "       [0.54025079],\n",
              "       [0.50183012],\n",
              "       [0.49793374],\n",
              "       [0.48695303],\n",
              "       [0.4588991 ],\n",
              "       [0.44097575],\n",
              "       [0.49535977],\n",
              "       [0.50140506],\n",
              "       [0.49998819],\n",
              "       [0.49089664],\n",
              "       [0.47028125],\n",
              "       [0.44022009],\n",
              "       [0.45993813],\n",
              "       [0.4476114 ],\n",
              "       [0.42111602],\n",
              "       [0.44454153],\n",
              "       [0.39532907],\n",
              "       [0.39185775],\n",
              "       [0.37388717],\n",
              "       [0.38059367],\n",
              "       [0.37820861],\n",
              "       [0.32311616],\n",
              "       [0.36843224],\n",
              "       [0.39336907],\n",
              "       [0.39438449],\n",
              "       [0.38774884],\n",
              "       [0.38692233],\n",
              "       [0.40338159],\n",
              "       [0.37086452],\n",
              "       [0.36243417],\n",
              "       [0.36373297],\n",
              "       [0.40484568],\n",
              "       [0.42513047],\n",
              "       [0.41490542],\n",
              "       [0.42128132],\n",
              "       [0.42985335],\n",
              "       [0.46421234],\n",
              "       [0.45967837],\n",
              "       [0.46409427],\n",
              "       [0.46114247],\n",
              "       [0.44869766],\n",
              "       [0.43823647],\n",
              "       [0.43977141],\n",
              "       [0.44886297],\n",
              "       [0.45183838],\n",
              "       [0.45545139],\n",
              "       [0.45849765],\n",
              "       [0.46756559],\n",
              "       [0.4790422 ],\n",
              "       [0.48959785],\n",
              "       [0.47705859],\n",
              "       [0.49432073],\n",
              "       [0.49961036],\n",
              "       [0.50416795],\n",
              "       [0.51640022],\n",
              "       [0.53222188],\n",
              "       [0.53845609],\n",
              "       [0.52962429],\n",
              "       [0.51507781],\n",
              "       [0.51061468],\n",
              "       [0.53092309],\n",
              "       [0.5356932 ],\n",
              "       [0.53805464],\n",
              "       [0.54128982],\n",
              "       [0.53736983],\n",
              "       [0.54920065],\n",
              "       [0.53614188],\n",
              "       [0.5473115 ],\n",
              "       [0.54190379],\n",
              "       [0.54473753],\n",
              "       [0.5473115 ],\n",
              "       [0.55382908],\n",
              "       [0.55245944],\n",
              "       [0.56693508],\n",
              "       [0.57130375],\n",
              "       [0.59966468],\n",
              "       [0.62129549],\n",
              "       [0.61253454],\n",
              "       [0.60483623],\n",
              "       [0.59982998],\n",
              "       [0.61758802],\n",
              "       [0.6227832 ],\n",
              "       [0.61817838],\n",
              "       [0.62552247],\n",
              "       [0.63237065],\n",
              "       [0.66288049],\n",
              "       [0.65440291],\n",
              "       [0.64545304],\n",
              "       [0.6462087 ],\n",
              "       [0.63877866],\n",
              "       [0.64776726],\n",
              "       [0.65102605],\n",
              "       [0.65837013],\n",
              "       [0.67090939],\n",
              "       [0.67761589],\n",
              "       [0.68441684],\n",
              "       [0.69331948],\n",
              "       [0.69013153],\n",
              "       [0.72767847],\n",
              "       [0.70217489],\n",
              "       [0.72099558],\n",
              "       [0.70359175],\n",
              "       [0.70115947],\n",
              "       [0.71393487],\n",
              "       [0.7210192 ],\n",
              "       [0.70897584],\n",
              "       [0.70049826],\n",
              "       [0.66169977],\n",
              "       [0.67997733],\n",
              "       [0.67662078],\n",
              "       [0.68304721],\n",
              "       [0.69313056],\n",
              "       [0.78869814],\n",
              "       [0.83801851],\n",
              "       [0.83002338],\n",
              "       [0.82626868],\n",
              "       [0.86424068],\n",
              "       [0.85727442],\n",
              "       [0.858219  ],\n",
              "       [0.84601034],\n",
              "       [0.85349612],\n",
              "       [0.87963728],\n",
              "       [0.86979007],\n",
              "       [0.88006234],\n",
              "       [0.87923584],\n",
              "       [0.89021654],\n",
              "       [0.90183012],\n",
              "       [0.96300092],\n",
              "       [1.        ],\n",
              "       [0.96594139],\n",
              "       [0.98306846],\n",
              "       [0.9877205 ],\n",
              "       [0.97787329],\n",
              "       [0.09287553],\n",
              "       [0.10184901],\n",
              "       [0.1093584 ],\n",
              "       [0.08777481],\n",
              "       [0.075637  ],\n",
              "       [0.06451461],\n",
              "       [0.06486882],\n",
              "       [0.06808038],\n",
              "       [0.05563558],\n",
              "       [0.05728859],\n",
              "       [0.06413441],\n",
              "       [0.05745389],\n",
              "       [0.04848041],\n",
              "       [0.04536331],\n",
              "       [0.04373391],\n",
              "       [0.05003896],\n",
              "       [0.04826788],\n",
              "       [0.0438756 ],\n",
              "       [0.04904716],\n",
              "       [0.05584811],\n",
              "       [0.0558245 ],\n",
              "       [0.06042931],\n",
              "       [0.06151557],\n",
              "       [0.05596618],\n",
              "       [0.05898883],\n",
              "       [0.05773727],\n",
              "       [0.05639124],\n",
              "       [0.05839847],\n",
              "       [0.05981534],\n",
              "       [0.07913193],\n",
              "       [0.07962784],\n",
              "       [0.07405483],\n",
              "       [0.06973339],\n",
              "       [0.07055518],\n",
              "       [0.06788911],\n",
              "       [0.06449099],\n",
              "       [0.06384159],\n",
              "       [0.06227124],\n",
              "       [0.05875269],\n",
              "       [0.05875269],\n",
              "       [0.06047654],\n",
              "       [0.05610787],\n",
              "       [0.05965003],\n",
              "       [0.04798451],\n",
              "       [0.04489102],\n",
              "       [0.04680379],\n",
              "       [0.0564857 ],\n",
              "       [0.06600231],\n",
              "       [0.06501051],\n",
              "       [0.07159893],\n",
              "       [0.06120859],\n",
              "       [0.06602593],\n",
              "       [0.06815123],\n",
              "       [0.0661244 ],\n",
              "       [0.06923749],\n",
              "       [0.06849151],\n",
              "       [0.0664746 ],\n",
              "       [0.06467991],\n",
              "       [0.06399509],\n",
              "       [0.0612799 ],\n",
              "       [0.05709968],\n",
              "       [0.05922497],\n",
              "       [0.06097244],\n",
              "       [0.06919026],\n",
              "       [0.07509221],\n",
              "       [0.07485772],\n",
              "       [0.07582591],\n",
              "       [0.07365528],\n",
              "       [0.07769145],\n",
              "       [0.07865965],\n",
              "       [0.08095024],\n",
              "       [0.07603844],\n",
              "       [0.07341724],\n",
              "       [0.07481049],\n",
              "       [0.08555506],\n",
              "       [0.08666493],\n",
              "       [0.08952228],\n",
              "       [0.08838879],\n",
              "       [0.08652325],\n",
              "       [0.10091624],\n",
              "       [0.09625239],\n",
              "       [0.09868468],\n",
              "       [0.10784707],\n",
              "       [0.1112688 ],\n",
              "       [0.10465913],\n",
              "       [0.10170732],\n",
              "       [0.09904267],\n",
              "       [0.094623  ],\n",
              "       [0.09299336],\n",
              "       [0.09436324],\n",
              "       [0.09672468],\n",
              "       [0.09091553],\n",
              "       [0.08978204],\n",
              "       [0.09393818],\n",
              "       [0.09287553],\n",
              "       [0.09104352],\n",
              "       [0.08746783],\n",
              "       [0.09639408],\n",
              "       [0.11334923],\n",
              "       [0.11377429],\n",
              "       [0.12614825],\n",
              "       [0.12428271],\n",
              "       [0.12428271],\n",
              "       [0.11882778]])"
            ]
          },
          "metadata": {
            "tags": []
          },
          "execution_count": 77
        }
      ]
    },
    {
      "cell_type": "code",
      "metadata": {
        "id": "6ZgDb25n1XCt"
      },
      "source": [
        "\r\n",
        "# convert an array of values into a dataset matrix\r\n",
        "def create_dataset(dataset, time_step=1):\r\n",
        "\tdataX, dataY = [], []\r\n",
        "\tfor i in range(len(dataset)-time_step-1):\r\n",
        "\t\ta = dataset[i:(i+time_step),0]   ###i=0, 0,1,2,3-----99   100 \r\n",
        "\t\tdataX.append(a)\r\n",
        "\t\tdataY.append(dataset[i + time_step, 0])\r\n",
        "\treturn np.array(dataX), np.array(dataY)"
      ],
      "execution_count": 83,
      "outputs": []
    },
    {
      "cell_type": "code",
      "metadata": {
        "id": "_kUp3QiU1ZJ2"
      },
      "source": [
        "\r\n",
        "# reshape into X=t,t+1,t+2,t+3 and Y=t+4\r\n",
        "time_step = 100\r\n",
        "X_train, y_train = create_dataset(train_data, time_step)\r\n",
        "X_test, ytest = create_dataset(test_data, time_step)"
      ],
      "execution_count": 84,
      "outputs": []
    },
    {
      "cell_type": "code",
      "metadata": {
        "colab": {
          "base_uri": "https://localhost:8080/"
        },
        "id": "4xsnBTuk2r06",
        "outputId": "40eb2dd2-0f3c-41de-e9b1-379d679a1063"
      },
      "source": [
        "\r\n",
        "print(X_train.shape), print(y_train.shape)"
      ],
      "execution_count": 85,
      "outputs": [
        {
          "output_type": "stream",
          "text": [
            "(716, 100)\n",
            "(716,)\n"
          ],
          "name": "stdout"
        },
        {
          "output_type": "execute_result",
          "data": {
            "text/plain": [
              "(None, None)"
            ]
          },
          "metadata": {
            "tags": []
          },
          "execution_count": 85
        }
      ]
    },
    {
      "cell_type": "code",
      "metadata": {
        "colab": {
          "base_uri": "https://localhost:8080/"
        },
        "id": "n8fIVYZz2_3m",
        "outputId": "4e2eea76-7195-4a7f-fd55-12ad0423bfb6"
      },
      "source": [
        "print(X_test.shape), print(ytest.shape)"
      ],
      "execution_count": 35,
      "outputs": [
        {
          "output_type": "stream",
          "text": [
            "(340, 100)\n",
            "(340,)\n"
          ],
          "name": "stdout"
        },
        {
          "output_type": "execute_result",
          "data": {
            "text/plain": [
              "(None, None)"
            ]
          },
          "metadata": {
            "tags": []
          },
          "execution_count": 35
        }
      ]
    },
    {
      "cell_type": "code",
      "metadata": {
        "colab": {
          "base_uri": "https://localhost:8080/"
        },
        "id": "FK3vWT_Y_nev",
        "outputId": "fcc1e369-a8e9-4647-819d-975a6a610181"
      },
      "source": [
        "X_train.shape[1]"
      ],
      "execution_count": 87,
      "outputs": [
        {
          "output_type": "execute_result",
          "data": {
            "text/plain": [
              "100"
            ]
          },
          "metadata": {
            "tags": []
          },
          "execution_count": 87
        }
      ]
    },
    {
      "cell_type": "code",
      "metadata": {
        "id": "hLyJjyoj3EpU"
      },
      "source": [
        "# reshape input to be [samples, time steps, features] which is required for LSTM\r\n",
        "X_train =X_train.reshape(X_train.shape[0],X_train.shape[1] , 1)\r\n",
        "X_test = X_test.reshape(X_test.shape[0],X_test.shape[1] , 1)"
      ],
      "execution_count": 88,
      "outputs": []
    },
    {
      "cell_type": "code",
      "metadata": {
        "id": "q6IgUmSL3o6T"
      },
      "source": [
        "### Create the Stacked LSTM model\r\n",
        "from tensorflow.keras.models import Sequential\r\n",
        "from tensorflow.keras.layers import Dense,LSTM\r\n"
      ],
      "execution_count": 89,
      "outputs": []
    },
    {
      "cell_type": "code",
      "metadata": {
        "id": "8JLlulZO3u_U"
      },
      "source": [
        "model=Sequential()\r\n",
        "model.add(LSTM(50,return_sequences=True,input_shape=(100,1)))\r\n",
        "model.add(LSTM(50,return_sequences=True))\r\n",
        "model.add(LSTM(50))\r\n",
        "model.add(Dense(1))\r\n",
        "model.compile(loss='mean_squared_error',optimizer='adam')"
      ],
      "execution_count": 90,
      "outputs": []
    },
    {
      "cell_type": "code",
      "metadata": {
        "colab": {
          "base_uri": "https://localhost:8080/"
        },
        "id": "pN2n8lwe4eEM",
        "outputId": "9ab4b478-466e-4d7d-8e34-0eb7c303e3da"
      },
      "source": [
        "model.summary()"
      ],
      "execution_count": 91,
      "outputs": [
        {
          "output_type": "stream",
          "text": [
            "Model: \"sequential_1\"\n",
            "_________________________________________________________________\n",
            "Layer (type)                 Output Shape              Param #   \n",
            "=================================================================\n",
            "lstm_3 (LSTM)                (None, 100, 50)           10400     \n",
            "_________________________________________________________________\n",
            "lstm_4 (LSTM)                (None, 100, 50)           20200     \n",
            "_________________________________________________________________\n",
            "lstm_5 (LSTM)                (None, 50)                20200     \n",
            "_________________________________________________________________\n",
            "dense_1 (Dense)              (None, 1)                 51        \n",
            "=================================================================\n",
            "Total params: 50,851\n",
            "Trainable params: 50,851\n",
            "Non-trainable params: 0\n",
            "_________________________________________________________________\n"
          ],
          "name": "stdout"
        }
      ]
    },
    {
      "cell_type": "code",
      "metadata": {
        "colab": {
          "base_uri": "https://localhost:8080/"
        },
        "id": "YA4fNUBP4h-V",
        "outputId": "55632371-46a0-40ed-c4a0-af624f7cffa0"
      },
      "source": [
        "model.fit(X_train,y_train,validation_data=(X_test,ytest),epochs=100,batch_size=64,verbose=1)"
      ],
      "execution_count": 92,
      "outputs": [
        {
          "output_type": "stream",
          "text": [
            "Epoch 1/100\n",
            "12/12 [==============================] - 4s 106ms/step - loss: 0.0149 - val_loss: 0.0493\n",
            "Epoch 2/100\n",
            "12/12 [==============================] - 0s 23ms/step - loss: 0.0027 - val_loss: 0.0210\n",
            "Epoch 3/100\n",
            "12/12 [==============================] - 0s 19ms/step - loss: 9.8110e-04 - val_loss: 0.0205\n",
            "Epoch 4/100\n",
            "12/12 [==============================] - 0s 22ms/step - loss: 5.3699e-04 - val_loss: 0.0230\n",
            "Epoch 5/100\n",
            "12/12 [==============================] - 0s 19ms/step - loss: 3.9560e-04 - val_loss: 0.0189\n",
            "Epoch 6/100\n",
            "12/12 [==============================] - 0s 20ms/step - loss: 3.1986e-04 - val_loss: 0.0183\n",
            "Epoch 7/100\n",
            "12/12 [==============================] - 0s 20ms/step - loss: 2.9519e-04 - val_loss: 0.0181\n",
            "Epoch 8/100\n",
            "12/12 [==============================] - 0s 19ms/step - loss: 2.7524e-04 - val_loss: 0.0173\n",
            "Epoch 9/100\n",
            "12/12 [==============================] - 0s 19ms/step - loss: 2.9893e-04 - val_loss: 0.0167\n",
            "Epoch 10/100\n",
            "12/12 [==============================] - 0s 20ms/step - loss: 2.9490e-04 - val_loss: 0.0162\n",
            "Epoch 11/100\n",
            "12/12 [==============================] - 0s 19ms/step - loss: 2.5147e-04 - val_loss: 0.0158\n",
            "Epoch 12/100\n",
            "12/12 [==============================] - 0s 19ms/step - loss: 2.7011e-04 - val_loss: 0.0149\n",
            "Epoch 13/100\n",
            "12/12 [==============================] - 0s 20ms/step - loss: 2.2856e-04 - val_loss: 0.0145\n",
            "Epoch 14/100\n",
            "12/12 [==============================] - 0s 22ms/step - loss: 2.0576e-04 - val_loss: 0.0144\n",
            "Epoch 15/100\n",
            "12/12 [==============================] - 0s 22ms/step - loss: 1.7511e-04 - val_loss: 0.0147\n",
            "Epoch 16/100\n",
            "12/12 [==============================] - 0s 22ms/step - loss: 1.7302e-04 - val_loss: 0.0148\n",
            "Epoch 17/100\n",
            "12/12 [==============================] - 0s 22ms/step - loss: 2.1859e-04 - val_loss: 0.0162\n",
            "Epoch 18/100\n",
            "12/12 [==============================] - 0s 21ms/step - loss: 2.0399e-04 - val_loss: 0.0141\n",
            "Epoch 19/100\n",
            "12/12 [==============================] - 0s 19ms/step - loss: 1.8632e-04 - val_loss: 0.0154\n",
            "Epoch 20/100\n",
            "12/12 [==============================] - 0s 22ms/step - loss: 1.8057e-04 - val_loss: 0.0143\n",
            "Epoch 21/100\n",
            "12/12 [==============================] - 0s 22ms/step - loss: 1.7551e-04 - val_loss: 0.0158\n",
            "Epoch 22/100\n",
            "12/12 [==============================] - 0s 22ms/step - loss: 1.8051e-04 - val_loss: 0.0150\n",
            "Epoch 23/100\n",
            "12/12 [==============================] - 0s 18ms/step - loss: 1.7571e-04 - val_loss: 0.0150\n",
            "Epoch 24/100\n",
            "12/12 [==============================] - 0s 19ms/step - loss: 1.8020e-04 - val_loss: 0.0147\n",
            "Epoch 25/100\n",
            "12/12 [==============================] - 0s 19ms/step - loss: 1.5433e-04 - val_loss: 0.0152\n",
            "Epoch 26/100\n",
            "12/12 [==============================] - 0s 19ms/step - loss: 1.6828e-04 - val_loss: 0.0152\n",
            "Epoch 27/100\n",
            "12/12 [==============================] - 0s 21ms/step - loss: 1.4170e-04 - val_loss: 0.0148\n",
            "Epoch 28/100\n",
            "12/12 [==============================] - 0s 19ms/step - loss: 1.5169e-04 - val_loss: 0.0152\n",
            "Epoch 29/100\n",
            "12/12 [==============================] - 0s 20ms/step - loss: 1.4608e-04 - val_loss: 0.0152\n",
            "Epoch 30/100\n",
            "12/12 [==============================] - 0s 20ms/step - loss: 1.4727e-04 - val_loss: 0.0157\n",
            "Epoch 31/100\n",
            "12/12 [==============================] - 0s 22ms/step - loss: 1.6466e-04 - val_loss: 0.0148\n",
            "Epoch 32/100\n",
            "12/12 [==============================] - 0s 19ms/step - loss: 1.5129e-04 - val_loss: 0.0149\n",
            "Epoch 33/100\n",
            "12/12 [==============================] - 0s 19ms/step - loss: 1.4627e-04 - val_loss: 0.0146\n",
            "Epoch 34/100\n",
            "12/12 [==============================] - 0s 19ms/step - loss: 1.4684e-04 - val_loss: 0.0145\n",
            "Epoch 35/100\n",
            "12/12 [==============================] - 0s 21ms/step - loss: 1.3053e-04 - val_loss: 0.0149\n",
            "Epoch 36/100\n",
            "12/12 [==============================] - 0s 19ms/step - loss: 1.3860e-04 - val_loss: 0.0149\n",
            "Epoch 37/100\n",
            "12/12 [==============================] - 0s 20ms/step - loss: 1.3863e-04 - val_loss: 0.0138\n",
            "Epoch 38/100\n",
            "12/12 [==============================] - 0s 19ms/step - loss: 1.7649e-04 - val_loss: 0.0155\n",
            "Epoch 39/100\n",
            "12/12 [==============================] - 0s 21ms/step - loss: 1.4652e-04 - val_loss: 0.0136\n",
            "Epoch 40/100\n",
            "12/12 [==============================] - 0s 20ms/step - loss: 1.2404e-04 - val_loss: 0.0143\n",
            "Epoch 41/100\n",
            "12/12 [==============================] - 0s 19ms/step - loss: 1.3712e-04 - val_loss: 0.0131\n",
            "Epoch 42/100\n",
            "12/12 [==============================] - 0s 19ms/step - loss: 1.3390e-04 - val_loss: 0.0140\n",
            "Epoch 43/100\n",
            "12/12 [==============================] - 0s 21ms/step - loss: 1.4455e-04 - val_loss: 0.0135\n",
            "Epoch 44/100\n",
            "12/12 [==============================] - 0s 22ms/step - loss: 1.2702e-04 - val_loss: 0.0125\n",
            "Epoch 45/100\n",
            "12/12 [==============================] - 0s 36ms/step - loss: 1.4981e-04 - val_loss: 0.0121\n",
            "Epoch 46/100\n",
            "12/12 [==============================] - 0s 22ms/step - loss: 1.4327e-04 - val_loss: 0.0126\n",
            "Epoch 47/100\n",
            "12/12 [==============================] - 0s 23ms/step - loss: 1.3300e-04 - val_loss: 0.0124\n",
            "Epoch 48/100\n",
            "12/12 [==============================] - 0s 22ms/step - loss: 1.2169e-04 - val_loss: 0.0120\n",
            "Epoch 49/100\n",
            "12/12 [==============================] - 0s 24ms/step - loss: 1.2141e-04 - val_loss: 0.0127\n",
            "Epoch 50/100\n",
            "12/12 [==============================] - 0s 23ms/step - loss: 1.2843e-04 - val_loss: 0.0114\n",
            "Epoch 51/100\n",
            "12/12 [==============================] - 0s 20ms/step - loss: 1.2384e-04 - val_loss: 0.0114\n",
            "Epoch 52/100\n",
            "12/12 [==============================] - 0s 19ms/step - loss: 1.1819e-04 - val_loss: 0.0109\n",
            "Epoch 53/100\n",
            "12/12 [==============================] - 0s 19ms/step - loss: 1.5605e-04 - val_loss: 0.0126\n",
            "Epoch 54/100\n",
            "12/12 [==============================] - 0s 19ms/step - loss: 1.6658e-04 - val_loss: 0.0110\n",
            "Epoch 55/100\n",
            "12/12 [==============================] - 0s 20ms/step - loss: 1.4233e-04 - val_loss: 0.0106\n",
            "Epoch 56/100\n",
            "12/12 [==============================] - 0s 19ms/step - loss: 1.3317e-04 - val_loss: 0.0106\n",
            "Epoch 57/100\n",
            "12/12 [==============================] - 0s 20ms/step - loss: 1.1556e-04 - val_loss: 0.0120\n",
            "Epoch 58/100\n",
            "12/12 [==============================] - 0s 19ms/step - loss: 1.2584e-04 - val_loss: 0.0107\n",
            "Epoch 59/100\n",
            "12/12 [==============================] - 0s 20ms/step - loss: 1.1611e-04 - val_loss: 0.0107\n",
            "Epoch 60/100\n",
            "12/12 [==============================] - 0s 19ms/step - loss: 1.1668e-04 - val_loss: 0.0102\n",
            "Epoch 61/100\n",
            "12/12 [==============================] - 0s 19ms/step - loss: 1.1100e-04 - val_loss: 0.0092\n",
            "Epoch 62/100\n",
            "12/12 [==============================] - 0s 19ms/step - loss: 1.0838e-04 - val_loss: 0.0098\n",
            "Epoch 63/100\n",
            "12/12 [==============================] - 0s 20ms/step - loss: 1.1599e-04 - val_loss: 0.0097\n",
            "Epoch 64/100\n",
            "12/12 [==============================] - 0s 23ms/step - loss: 1.1795e-04 - val_loss: 0.0090\n",
            "Epoch 65/100\n",
            "12/12 [==============================] - 0s 24ms/step - loss: 1.1398e-04 - val_loss: 0.0088\n",
            "Epoch 66/100\n",
            "12/12 [==============================] - 0s 22ms/step - loss: 1.0481e-04 - val_loss: 0.0096\n",
            "Epoch 67/100\n",
            "12/12 [==============================] - 0s 21ms/step - loss: 1.1834e-04 - val_loss: 0.0086\n",
            "Epoch 68/100\n",
            "12/12 [==============================] - 0s 19ms/step - loss: 1.2518e-04 - val_loss: 0.0086\n",
            "Epoch 69/100\n",
            "12/12 [==============================] - 0s 19ms/step - loss: 1.0889e-04 - val_loss: 0.0084\n",
            "Epoch 70/100\n",
            "12/12 [==============================] - 0s 19ms/step - loss: 1.0183e-04 - val_loss: 0.0080\n",
            "Epoch 71/100\n",
            "12/12 [==============================] - 0s 23ms/step - loss: 1.0382e-04 - val_loss: 0.0085\n",
            "Epoch 72/100\n",
            "12/12 [==============================] - 0s 19ms/step - loss: 1.2004e-04 - val_loss: 0.0075\n",
            "Epoch 73/100\n",
            "12/12 [==============================] - 0s 19ms/step - loss: 9.8444e-05 - val_loss: 0.0088\n",
            "Epoch 74/100\n",
            "12/12 [==============================] - 0s 20ms/step - loss: 9.5471e-05 - val_loss: 0.0079\n",
            "Epoch 75/100\n",
            "12/12 [==============================] - 0s 20ms/step - loss: 9.6240e-05 - val_loss: 0.0073\n",
            "Epoch 76/100\n",
            "12/12 [==============================] - 0s 20ms/step - loss: 9.6757e-05 - val_loss: 0.0081\n",
            "Epoch 77/100\n",
            "12/12 [==============================] - 0s 20ms/step - loss: 9.6497e-05 - val_loss: 0.0092\n",
            "Epoch 78/100\n",
            "12/12 [==============================] - 0s 22ms/step - loss: 1.0702e-04 - val_loss: 0.0081\n",
            "Epoch 79/100\n",
            "12/12 [==============================] - 0s 22ms/step - loss: 9.3778e-05 - val_loss: 0.0076\n",
            "Epoch 80/100\n",
            "12/12 [==============================] - 0s 23ms/step - loss: 9.0908e-05 - val_loss: 0.0067\n",
            "Epoch 81/100\n",
            "12/12 [==============================] - 0s 23ms/step - loss: 2.0028e-04 - val_loss: 0.0118\n",
            "Epoch 82/100\n",
            "12/12 [==============================] - 0s 23ms/step - loss: 1.3969e-04 - val_loss: 0.0075\n",
            "Epoch 83/100\n",
            "12/12 [==============================] - 0s 22ms/step - loss: 1.0052e-04 - val_loss: 0.0072\n",
            "Epoch 84/100\n",
            "12/12 [==============================] - 0s 20ms/step - loss: 8.7146e-05 - val_loss: 0.0073\n",
            "Epoch 85/100\n",
            "12/12 [==============================] - 0s 19ms/step - loss: 8.0214e-05 - val_loss: 0.0069\n",
            "Epoch 86/100\n",
            "12/12 [==============================] - 0s 20ms/step - loss: 8.6482e-05 - val_loss: 0.0072\n",
            "Epoch 87/100\n",
            "12/12 [==============================] - 0s 21ms/step - loss: 9.2649e-05 - val_loss: 0.0069\n",
            "Epoch 88/100\n",
            "12/12 [==============================] - 0s 20ms/step - loss: 9.5341e-05 - val_loss: 0.0065\n",
            "Epoch 89/100\n",
            "12/12 [==============================] - 0s 19ms/step - loss: 8.8376e-05 - val_loss: 0.0063\n",
            "Epoch 90/100\n",
            "12/12 [==============================] - 0s 19ms/step - loss: 9.8447e-05 - val_loss: 0.0071\n",
            "Epoch 91/100\n",
            "12/12 [==============================] - 0s 20ms/step - loss: 7.9784e-05 - val_loss: 0.0065\n",
            "Epoch 92/100\n",
            "12/12 [==============================] - 0s 21ms/step - loss: 7.4703e-05 - val_loss: 0.0061\n",
            "Epoch 93/100\n",
            "12/12 [==============================] - 0s 19ms/step - loss: 8.2970e-05 - val_loss: 0.0064\n",
            "Epoch 94/100\n",
            "12/12 [==============================] - 0s 19ms/step - loss: 7.4715e-05 - val_loss: 0.0064\n",
            "Epoch 95/100\n",
            "12/12 [==============================] - 0s 19ms/step - loss: 8.5293e-05 - val_loss: 0.0069\n",
            "Epoch 96/100\n",
            "12/12 [==============================] - 0s 20ms/step - loss: 8.5540e-05 - val_loss: 0.0060\n",
            "Epoch 97/100\n",
            "12/12 [==============================] - 0s 22ms/step - loss: 7.1786e-05 - val_loss: 0.0060\n",
            "Epoch 98/100\n",
            "12/12 [==============================] - 0s 20ms/step - loss: 7.9746e-05 - val_loss: 0.0067\n",
            "Epoch 99/100\n",
            "12/12 [==============================] - 0s 20ms/step - loss: 8.1600e-05 - val_loss: 0.0059\n",
            "Epoch 100/100\n",
            "12/12 [==============================] - 0s 20ms/step - loss: 7.0984e-05 - val_loss: 0.0062\n"
          ],
          "name": "stdout"
        },
        {
          "output_type": "execute_result",
          "data": {
            "text/plain": [
              "<tensorflow.python.keras.callbacks.History at 0x7fe8132a82e8>"
            ]
          },
          "metadata": {
            "tags": []
          },
          "execution_count": 92
        }
      ]
    },
    {
      "cell_type": "code",
      "metadata": {
        "id": "NzEu5h7s5Tfk"
      },
      "source": [
        "\r\n",
        "### Lets Do the prediction and check performance metrics\r\n",
        "train_predict=model.predict(X_train)\r\n",
        "test_predict=model.predict(X_test)"
      ],
      "execution_count": 93,
      "outputs": []
    },
    {
      "cell_type": "code",
      "metadata": {
        "id": "Oon7iTsS5Y7u"
      },
      "source": [
        "##Transformback to original form\r\n",
        "train_predict=scaler.inverse_transform(train_predict)\r\n",
        "test_predict=scaler.inverse_transform(test_predict)"
      ],
      "execution_count": 94,
      "outputs": []
    },
    {
      "cell_type": "code",
      "metadata": {
        "colab": {
          "base_uri": "https://localhost:8080/"
        },
        "id": "j1iluhbu5drr",
        "outputId": "a4c62543-b8f0-43b4-c77b-b790138de0f2"
      },
      "source": [
        "### Calculate RMSE performance metrics\r\n",
        "import math\r\n",
        "from sklearn.metrics import mean_squared_error\r\n",
        "math.sqrt(mean_squared_error(y_train,train_predict))"
      ],
      "execution_count": 95,
      "outputs": [
        {
          "output_type": "execute_result",
          "data": {
            "text/plain": [
              "0.008505198804783927"
            ]
          },
          "metadata": {
            "tags": []
          },
          "execution_count": 95
        }
      ]
    },
    {
      "cell_type": "code",
      "metadata": {
        "colab": {
          "base_uri": "https://localhost:8080/"
        },
        "id": "sHAyOui95jZh",
        "outputId": "79b6c52f-5070-43a9-a8d4-03ea0df9e9de"
      },
      "source": [
        "\r\n",
        "### Test Data RMSE\r\n",
        "math.sqrt(mean_squared_error(ytest,test_predict))"
      ],
      "execution_count": 96,
      "outputs": [
        {
          "output_type": "execute_result",
          "data": {
            "text/plain": [
              "0.07857989156691238"
            ]
          },
          "metadata": {
            "tags": []
          },
          "execution_count": 96
        }
      ]
    },
    {
      "cell_type": "code",
      "metadata": {
        "colab": {
          "base_uri": "https://localhost:8080/",
          "height": 265
        },
        "id": "_HIcoV6g5n2u",
        "outputId": "f81cdd6a-3dfb-4294-ff3a-aef2987ff5ee"
      },
      "source": [
        "### Plotting \r\n",
        "# shift train predictions for plotting\r\n",
        "look_back=100\r\n",
        "trainPredictPlot = numpy.empty_like(df1)\r\n",
        "trainPredictPlot[:, :] = np.nan\r\n",
        "trainPredictPlot[look_back:len(train_predict)+look_back, :] = train_predict\r\n",
        "# shift test predictions for plotting\r\n",
        "testPredictPlot = numpy.empty_like(df1)\r\n",
        "testPredictPlot[:, :] = numpy.nan\r\n",
        "testPredictPlot[len(train_predict)+(look_back*2)+1:len(df1)-1, :] = test_predict\r\n",
        "# plot baseline and predictions\r\n",
        "plt.plot(scaler.inverse_transform(df1))\r\n",
        "plt.plot(trainPredictPlot)\r\n",
        "plt.plot(testPredictPlot)\r\n",
        "plt.show()"
      ],
      "execution_count": 97,
      "outputs": [
        {
          "output_type": "display_data",
          "data": {
            "image/png": "[encoded data removed]",
            "text/plain": [
              "<Figure size 432x288 with 1 Axes>"
            ]
          },
          "metadata": {
            "tags": [],
            "needs_background": "light"
          }
        }
      ]
    },
    {
      "cell_type": "code",
      "metadata": {
        "colab": {
          "base_uri": "https://localhost:8080/"
        },
        "id": "WO-hWDFM5rmT",
        "outputId": "1ea9e791-756b-4197-fee8-26dd7536d6a0"
      },
      "source": [
        "len(test_data)"
      ],
      "execution_count": 98,
      "outputs": [
        {
          "output_type": "execute_result",
          "data": {
            "text/plain": [
              "441"
            ]
          },
          "metadata": {
            "tags": []
          },
          "execution_count": 98
        }
      ]
    },
    {
      "cell_type": "code",
      "metadata": {
        "colab": {
          "base_uri": "https://localhost:8080/"
        },
        "id": "Z-PUCZrN50-n",
        "outputId": "03390fc7-2e2b-438e-adf1-7884957f7156"
      },
      "source": [
        "x_input=test_data[341:].reshape(1,-1)\r\n",
        "x_input.shape"
      ],
      "execution_count": 99,
      "outputs": [
        {
          "output_type": "execute_result",
          "data": {
            "text/plain": [
              "(1, 100)"
            ]
          },
          "metadata": {
            "tags": []
          },
          "execution_count": 99
        }
      ]
    },
    {
      "cell_type": "code",
      "metadata": {
        "id": "xhUQYLQV6CMR"
      },
      "source": [
        "temp_input=list(x_input)\r\n",
        "temp_input=temp_input[0].tolist()"
      ],
      "execution_count": 100,
      "outputs": []
    },
    {
      "cell_type": "code",
      "metadata": {
        "colab": {
          "base_uri": "https://localhost:8080/"
        },
        "id": "RV_VLFei6F6q",
        "outputId": "399e3c2d-0323-4715-b17a-11539e7a437d"
      },
      "source": [
        "# demonstrate prediction for next 10 days\r\n",
        "from numpy import array\r\n",
        "\r\n",
        "lst_output=[]\r\n",
        "n_steps=100\r\n",
        "i=0\r\n",
        "while(i<30):\r\n",
        "    \r\n",
        "    if(len(temp_input)>100):\r\n",
        "        #print(temp_input)\r\n",
        "        x_input=np.array(temp_input[1:])\r\n",
        "        print(\"{} day input {}\".format(i,x_input))\r\n",
        "        x_input=x_input.reshape(1,-1)\r\n",
        "        x_input = x_input.reshape((1, n_steps, 1))\r\n",
        "        #print(x_input)\r\n",
        "        yhat = model.predict(x_input, verbose=0)\r\n",
        "        print(\"{} day output {}\".format(i,yhat))\r\n",
        "        temp_input.extend(yhat[0].tolist())\r\n",
        "        temp_input=temp_input[1:]\r\n",
        "        #print(temp_input)\r\n",
        "        lst_output.extend(yhat.tolist())\r\n",
        "        i=i+1\r\n",
        "    else:\r\n",
        "        x_input = x_input.reshape((1, n_steps,1))\r\n",
        "        yhat = model.predict(x_input, verbose=0)\r\n",
        "        print(yhat[0])\r\n",
        "        temp_input.extend(yhat[0].tolist())\r\n",
        "        print(len(temp_input))\r\n",
        "        lst_output.extend(yhat.tolist())\r\n",
        "        i=i+1\r\n",
        "    \r\n",
        "\r\n",
        "print(lst_output)\r\n"
      ],
      "execution_count": 101,
      "outputs": [
        {
          "output_type": "stream",
          "text": [
            "[0.12151939]\n",
            "101\n",
            "1 day input [0.06451461 0.06486882 0.06808038 0.05563558 0.05728859 0.06413441\n",
            " 0.05745389 0.04848041 0.04536331 0.04373391 0.05003896 0.04826788\n",
            " 0.0438756  0.04904716 0.05584811 0.0558245  0.06042931 0.06151557\n",
            " 0.05596618 0.05898883 0.05773727 0.05639124 0.05839847 0.05981534\n",
            " 0.07913193 0.07962784 0.07405483 0.06973339 0.07055518 0.06788911\n",
            " 0.06449099 0.06384159 0.06227124 0.05875269 0.05875269 0.06047654\n",
            " 0.05610787 0.05965003 0.04798451 0.04489102 0.04680379 0.0564857\n",
            " 0.06600231 0.06501051 0.07159893 0.06120859 0.06602593 0.06815123\n",
            " 0.0661244  0.06923749 0.06849151 0.0664746  0.06467991 0.06399509\n",
            " 0.0612799  0.05709968 0.05922497 0.06097244 0.06919026 0.07509221\n",
            " 0.07485772 0.07582591 0.07365528 0.07769145 0.07865965 0.08095024\n",
            " 0.07603844 0.07341724 0.07481049 0.08555506 0.08666493 0.08952228\n",
            " 0.08838879 0.08652325 0.10091624 0.09625239 0.09868468 0.10784707\n",
            " 0.1112688  0.10465913 0.10170732 0.09904267 0.094623   0.09299336\n",
            " 0.09436324 0.09672468 0.09091553 0.08978204 0.09393818 0.09287553\n",
            " 0.09104352 0.08746783 0.09639408 0.11334923 0.11377429 0.12614825\n",
            " 0.12428271 0.12428271 0.11882778 0.12151939]\n",
            "1 day output [[0.12349299]]\n",
            "2 day input [0.06486882 0.06808038 0.05563558 0.05728859 0.06413441 0.05745389\n",
            " 0.04848041 0.04536331 0.04373391 0.05003896 0.04826788 0.0438756\n",
            " 0.04904716 0.05584811 0.0558245  0.06042931 0.06151557 0.05596618\n",
            " 0.05898883 0.05773727 0.05639124 0.05839847 0.05981534 0.07913193\n",
            " 0.07962784 0.07405483 0.06973339 0.07055518 0.06788911 0.06449099\n",
            " 0.06384159 0.06227124 0.05875269 0.05875269 0.06047654 0.05610787\n",
            " 0.05965003 0.04798451 0.04489102 0.04680379 0.0564857  0.06600231\n",
            " 0.06501051 0.07159893 0.06120859 0.06602593 0.06815123 0.0661244\n",
            " 0.06923749 0.06849151 0.0664746  0.06467991 0.06399509 0.0612799\n",
            " 0.05709968 0.05922497 0.06097244 0.06919026 0.07509221 0.07485772\n",
            " 0.07582591 0.07365528 0.07769145 0.07865965 0.08095024 0.07603844\n",
            " 0.07341724 0.07481049 0.08555506 0.08666493 0.08952228 0.08838879\n",
            " 0.08652325 0.10091624 0.09625239 0.09868468 0.10784707 0.1112688\n",
            " 0.10465913 0.10170732 0.09904267 0.094623   0.09299336 0.09436324\n",
            " 0.09672468 0.09091553 0.08978204 0.09393818 0.09287553 0.09104352\n",
            " 0.08746783 0.09639408 0.11334923 0.11377429 0.12614825 0.12428271\n",
            " 0.12428271 0.11882778 0.12151939 0.12349299]\n",
            "2 day output [[0.12412692]]\n",
            "3 day input [0.06808038 0.05563558 0.05728859 0.06413441 0.05745389 0.04848041\n",
            " 0.04536331 0.04373391 0.05003896 0.04826788 0.0438756  0.04904716\n",
            " 0.05584811 0.0558245  0.06042931 0.06151557 0.05596618 0.05898883\n",
            " 0.05773727 0.05639124 0.05839847 0.05981534 0.07913193 0.07962784\n",
            " 0.07405483 0.06973339 0.07055518 0.06788911 0.06449099 0.06384159\n",
            " 0.06227124 0.05875269 0.05875269 0.06047654 0.05610787 0.05965003\n",
            " 0.04798451 0.04489102 0.04680379 0.0564857  0.06600231 0.06501051\n",
            " 0.07159893 0.06120859 0.06602593 0.06815123 0.0661244  0.06923749\n",
            " 0.06849151 0.0664746  0.06467991 0.06399509 0.0612799  0.05709968\n",
            " 0.05922497 0.06097244 0.06919026 0.07509221 0.07485772 0.07582591\n",
            " 0.07365528 0.07769145 0.07865965 0.08095024 0.07603844 0.07341724\n",
            " 0.07481049 0.08555506 0.08666493 0.08952228 0.08838879 0.08652325\n",
            " 0.10091624 0.09625239 0.09868468 0.10784707 0.1112688  0.10465913\n",
            " 0.10170732 0.09904267 0.094623   0.09299336 0.09436324 0.09672468\n",
            " 0.09091553 0.08978204 0.09393818 0.09287553 0.09104352 0.08746783\n",
            " 0.09639408 0.11334923 0.11377429 0.12614825 0.12428271 0.12428271\n",
            " 0.11882778 0.12151939 0.12349299 0.12412692]\n",
            "3 day output [[0.12398103]]\n",
            "4 day input [0.05563558 0.05728859 0.06413441 0.05745389 0.04848041 0.04536331\n",
            " 0.04373391 0.05003896 0.04826788 0.0438756  0.04904716 0.05584811\n",
            " 0.0558245  0.06042931 0.06151557 0.05596618 0.05898883 0.05773727\n",
            " 0.05639124 0.05839847 0.05981534 0.07913193 0.07962784 0.07405483\n",
            " 0.06973339 0.07055518 0.06788911 0.06449099 0.06384159 0.06227124\n",
            " 0.05875269 0.05875269 0.06047654 0.05610787 0.05965003 0.04798451\n",
            " 0.04489102 0.04680379 0.0564857  0.06600231 0.06501051 0.07159893\n",
            " 0.06120859 0.06602593 0.06815123 0.0661244  0.06923749 0.06849151\n",
            " 0.0664746  0.06467991 0.06399509 0.0612799  0.05709968 0.05922497\n",
            " 0.06097244 0.06919026 0.07509221 0.07485772 0.07582591 0.07365528\n",
            " 0.07769145 0.07865965 0.08095024 0.07603844 0.07341724 0.07481049\n",
            " 0.08555506 0.08666493 0.08952228 0.08838879 0.08652325 0.10091624\n",
            " 0.09625239 0.09868468 0.10784707 0.1112688  0.10465913 0.10170732\n",
            " 0.09904267 0.094623   0.09299336 0.09436324 0.09672468 0.09091553\n",
            " 0.08978204 0.09393818 0.09287553 0.09104352 0.08746783 0.09639408\n",
            " 0.11334923 0.11377429 0.12614825 0.12428271 0.12428271 0.11882778\n",
            " 0.12151939 0.12349299 0.12412692 0.12398103]\n",
            "4 day output [[0.12344978]]\n",
            "5 day input [0.05728859 0.06413441 0.05745389 0.04848041 0.04536331 0.04373391\n",
            " 0.05003896 0.04826788 0.0438756  0.04904716 0.05584811 0.0558245\n",
            " 0.06042931 0.06151557 0.05596618 0.05898883 0.05773727 0.05639124\n",
            " 0.05839847 0.05981534 0.07913193 0.07962784 0.07405483 0.06973339\n",
            " 0.07055518 0.06788911 0.06449099 0.06384159 0.06227124 0.05875269\n",
            " 0.05875269 0.06047654 0.05610787 0.05965003 0.04798451 0.04489102\n",
            " 0.04680379 0.0564857  0.06600231 0.06501051 0.07159893 0.06120859\n",
            " 0.06602593 0.06815123 0.0661244  0.06923749 0.06849151 0.0664746\n",
            " 0.06467991 0.06399509 0.0612799  0.05709968 0.05922497 0.06097244\n",
            " 0.06919026 0.07509221 0.07485772 0.07582591 0.07365528 0.07769145\n",
            " 0.07865965 0.08095024 0.07603844 0.07341724 0.07481049 0.08555506\n",
            " 0.08666493 0.08952228 0.08838879 0.08652325 0.10091624 0.09625239\n",
            " 0.09868468 0.10784707 0.1112688  0.10465913 0.10170732 0.09904267\n",
            " 0.094623   0.09299336 0.09436324 0.09672468 0.09091553 0.08978204\n",
            " 0.09393818 0.09287553 0.09104352 0.08746783 0.09639408 0.11334923\n",
            " 0.11377429 0.12614825 0.12428271 0.12428271 0.11882778 0.12151939\n",
            " 0.12349299 0.12412692 0.12398103 0.12344978]\n",
            "5 day output [[0.12276752]]\n",
            "6 day input [0.06413441 0.05745389 0.04848041 0.04536331 0.04373391 0.05003896\n",
            " 0.04826788 0.0438756  0.04904716 0.05584811 0.0558245  0.06042931\n",
            " 0.06151557 0.05596618 0.05898883 0.05773727 0.05639124 0.05839847\n",
            " 0.05981534 0.07913193 0.07962784 0.07405483 0.06973339 0.07055518\n",
            " 0.06788911 0.06449099 0.06384159 0.06227124 0.05875269 0.05875269\n",
            " 0.06047654 0.05610787 0.05965003 0.04798451 0.04489102 0.04680379\n",
            " 0.0564857  0.06600231 0.06501051 0.07159893 0.06120859 0.06602593\n",
            " 0.06815123 0.0661244  0.06923749 0.06849151 0.0664746  0.06467991\n",
            " 0.06399509 0.0612799  0.05709968 0.05922497 0.06097244 0.06919026\n",
            " 0.07509221 0.07485772 0.07582591 0.07365528 0.07769145 0.07865965\n",
            " 0.08095024 0.07603844 0.07341724 0.07481049 0.08555506 0.08666493\n",
            " 0.08952228 0.08838879 0.08652325 0.10091624 0.09625239 0.09868468\n",
            " 0.10784707 0.1112688  0.10465913 0.10170732 0.09904267 0.094623\n",
            " 0.09299336 0.09436324 0.09672468 0.09091553 0.08978204 0.09393818\n",
            " 0.09287553 0.09104352 0.08746783 0.09639408 0.11334923 0.11377429\n",
            " 0.12614825 0.12428271 0.12428271 0.11882778 0.12151939 0.12349299\n",
            " 0.12412692 0.12398103 0.12344978 0.12276752]\n",
            "6 day output [[0.12206058]]\n",
            "7 day input [0.05745389 0.04848041 0.04536331 0.04373391 0.05003896 0.04826788\n",
            " 0.0438756  0.04904716 0.05584811 0.0558245  0.06042931 0.06151557\n",
            " 0.05596618 0.05898883 0.05773727 0.05639124 0.05839847 0.05981534\n",
            " 0.07913193 0.07962784 0.07405483 0.06973339 0.07055518 0.06788911\n",
            " 0.06449099 0.06384159 0.06227124 0.05875269 0.05875269 0.06047654\n",
            " 0.05610787 0.05965003 0.04798451 0.04489102 0.04680379 0.0564857\n",
            " 0.06600231 0.06501051 0.07159893 0.06120859 0.06602593 0.06815123\n",
            " 0.0661244  0.06923749 0.06849151 0.0664746  0.06467991 0.06399509\n",
            " 0.0612799  0.05709968 0.05922497 0.06097244 0.06919026 0.07509221\n",
            " 0.07485772 0.07582591 0.07365528 0.07769145 0.07865965 0.08095024\n",
            " 0.07603844 0.07341724 0.07481049 0.08555506 0.08666493 0.08952228\n",
            " 0.08838879 0.08652325 0.10091624 0.09625239 0.09868468 0.10784707\n",
            " 0.1112688  0.10465913 0.10170732 0.09904267 0.094623   0.09299336\n",
            " 0.09436324 0.09672468 0.09091553 0.08978204 0.09393818 0.09287553\n",
            " 0.09104352 0.08746783 0.09639408 0.11334923 0.11377429 0.12614825\n",
            " 0.12428271 0.12428271 0.11882778 0.12151939 0.12349299 0.12412692\n",
            " 0.12398103 0.12344978 0.12276752 0.12206058]\n",
            "7 day output [[0.12139543]]\n",
            "8 day input [0.04848041 0.04536331 0.04373391 0.05003896 0.04826788 0.0438756\n",
            " 0.04904716 0.05584811 0.0558245  0.06042931 0.06151557 0.05596618\n",
            " 0.05898883 0.05773727 0.05639124 0.05839847 0.05981534 0.07913193\n",
            " 0.07962784 0.07405483 0.06973339 0.07055518 0.06788911 0.06449099\n",
            " 0.06384159 0.06227124 0.05875269 0.05875269 0.06047654 0.05610787\n",
            " 0.05965003 0.04798451 0.04489102 0.04680379 0.0564857  0.06600231\n",
            " 0.06501051 0.07159893 0.06120859 0.06602593 0.06815123 0.0661244\n",
            " 0.06923749 0.06849151 0.0664746  0.06467991 0.06399509 0.0612799\n",
            " 0.05709968 0.05922497 0.06097244 0.06919026 0.07509221 0.07485772\n",
            " 0.07582591 0.07365528 0.07769145 0.07865965 0.08095024 0.07603844\n",
            " 0.07341724 0.07481049 0.08555506 0.08666493 0.08952228 0.08838879\n",
            " 0.08652325 0.10091624 0.09625239 0.09868468 0.10784707 0.1112688\n",
            " 0.10465913 0.10170732 0.09904267 0.094623   0.09299336 0.09436324\n",
            " 0.09672468 0.09091553 0.08978204 0.09393818 0.09287553 0.09104352\n",
            " 0.08746783 0.09639408 0.11334923 0.11377429 0.12614825 0.12428271\n",
            " 0.12428271 0.11882778 0.12151939 0.12349299 0.12412692 0.12398103\n",
            " 0.12344978 0.12276752 0.12206058 0.12139543]\n",
            "8 day output [[0.12080913]]\n",
            "9 day input [0.04536331 0.04373391 0.05003896 0.04826788 0.0438756  0.04904716\n",
            " 0.05584811 0.0558245  0.06042931 0.06151557 0.05596618 0.05898883\n",
            " 0.05773727 0.05639124 0.05839847 0.05981534 0.07913193 0.07962784\n",
            " 0.07405483 0.06973339 0.07055518 0.06788911 0.06449099 0.06384159\n",
            " 0.06227124 0.05875269 0.05875269 0.06047654 0.05610787 0.05965003\n",
            " 0.04798451 0.04489102 0.04680379 0.0564857  0.06600231 0.06501051\n",
            " 0.07159893 0.06120859 0.06602593 0.06815123 0.0661244  0.06923749\n",
            " 0.06849151 0.0664746  0.06467991 0.06399509 0.0612799  0.05709968\n",
            " 0.05922497 0.06097244 0.06919026 0.07509221 0.07485772 0.07582591\n",
            " 0.07365528 0.07769145 0.07865965 0.08095024 0.07603844 0.07341724\n",
            " 0.07481049 0.08555506 0.08666493 0.08952228 0.08838879 0.08652325\n",
            " 0.10091624 0.09625239 0.09868468 0.10784707 0.1112688  0.10465913\n",
            " 0.10170732 0.09904267 0.094623   0.09299336 0.09436324 0.09672468\n",
            " 0.09091553 0.08978204 0.09393818 0.09287553 0.09104352 0.08746783\n",
            " 0.09639408 0.11334923 0.11377429 0.12614825 0.12428271 0.12428271\n",
            " 0.11882778 0.12151939 0.12349299 0.12412692 0.12398103 0.12344978\n",
            " 0.12276752 0.12206058 0.12139543 0.12080913]\n",
            "9 day output [[0.12032437]]\n",
            "10 day input [0.04373391 0.05003896 0.04826788 0.0438756  0.04904716 0.05584811\n",
            " 0.0558245  0.06042931 0.06151557 0.05596618 0.05898883 0.05773727\n",
            " 0.05639124 0.05839847 0.05981534 0.07913193 0.07962784 0.07405483\n",
            " 0.06973339 0.07055518 0.06788911 0.06449099 0.06384159 0.06227124\n",
            " 0.05875269 0.05875269 0.06047654 0.05610787 0.05965003 0.04798451\n",
            " 0.04489102 0.04680379 0.0564857  0.06600231 0.06501051 0.07159893\n",
            " 0.06120859 0.06602593 0.06815123 0.0661244  0.06923749 0.06849151\n",
            " 0.0664746  0.06467991 0.06399509 0.0612799  0.05709968 0.05922497\n",
            " 0.06097244 0.06919026 0.07509221 0.07485772 0.07582591 0.07365528\n",
            " 0.07769145 0.07865965 0.08095024 0.07603844 0.07341724 0.07481049\n",
            " 0.08555506 0.08666493 0.08952228 0.08838879 0.08652325 0.10091624\n",
            " 0.09625239 0.09868468 0.10784707 0.1112688  0.10465913 0.10170732\n",
            " 0.09904267 0.094623   0.09299336 0.09436324 0.09672468 0.09091553\n",
            " 0.08978204 0.09393818 0.09287553 0.09104352 0.08746783 0.09639408\n",
            " 0.11334923 0.11377429 0.12614825 0.12428271 0.12428271 0.11882778\n",
            " 0.12151939 0.12349299 0.12412692 0.12398103 0.12344978 0.12276752\n",
            " 0.12206058 0.12139543 0.12080913 0.12032437]\n",
            "10 day output [[0.11995537]]\n",
            "11 day input [0.05003896 0.04826788 0.0438756  0.04904716 0.05584811 0.0558245\n",
            " 0.06042931 0.06151557 0.05596618 0.05898883 0.05773727 0.05639124\n",
            " 0.05839847 0.05981534 0.07913193 0.07962784 0.07405483 0.06973339\n",
            " 0.07055518 0.06788911 0.06449099 0.06384159 0.06227124 0.05875269\n",
            " 0.05875269 0.06047654 0.05610787 0.05965003 0.04798451 0.04489102\n",
            " 0.04680379 0.0564857  0.06600231 0.06501051 0.07159893 0.06120859\n",
            " 0.06602593 0.06815123 0.0661244  0.06923749 0.06849151 0.0664746\n",
            " 0.06467991 0.06399509 0.0612799  0.05709968 0.05922497 0.06097244\n",
            " 0.06919026 0.07509221 0.07485772 0.07582591 0.07365528 0.07769145\n",
            " 0.07865965 0.08095024 0.07603844 0.07341724 0.07481049 0.08555506\n",
            " 0.08666493 0.08952228 0.08838879 0.08652325 0.10091624 0.09625239\n",
            " 0.09868468 0.10784707 0.1112688  0.10465913 0.10170732 0.09904267\n",
            " 0.094623   0.09299336 0.09436324 0.09672468 0.09091553 0.08978204\n",
            " 0.09393818 0.09287553 0.09104352 0.08746783 0.09639408 0.11334923\n",
            " 0.11377429 0.12614825 0.12428271 0.12428271 0.11882778 0.12151939\n",
            " 0.12349299 0.12412692 0.12398103 0.12344978 0.12276752 0.12206058\n",
            " 0.12139543 0.12080913 0.12032437 0.11995537]\n",
            "11 day output [[0.11970922]]\n",
            "12 day input [0.04826788 0.0438756  0.04904716 0.05584811 0.0558245  0.06042931\n",
            " 0.06151557 0.05596618 0.05898883 0.05773727 0.05639124 0.05839847\n",
            " 0.05981534 0.07913193 0.07962784 0.07405483 0.06973339 0.07055518\n",
            " 0.06788911 0.06449099 0.06384159 0.06227124 0.05875269 0.05875269\n",
            " 0.06047654 0.05610787 0.05965003 0.04798451 0.04489102 0.04680379\n",
            " 0.0564857  0.06600231 0.06501051 0.07159893 0.06120859 0.06602593\n",
            " 0.06815123 0.0661244  0.06923749 0.06849151 0.0664746  0.06467991\n",
            " 0.06399509 0.0612799  0.05709968 0.05922497 0.06097244 0.06919026\n",
            " 0.07509221 0.07485772 0.07582591 0.07365528 0.07769145 0.07865965\n",
            " 0.08095024 0.07603844 0.07341724 0.07481049 0.08555506 0.08666493\n",
            " 0.08952228 0.08838879 0.08652325 0.10091624 0.09625239 0.09868468\n",
            " 0.10784707 0.1112688  0.10465913 0.10170732 0.09904267 0.094623\n",
            " 0.09299336 0.09436324 0.09672468 0.09091553 0.08978204 0.09393818\n",
            " 0.09287553 0.09104352 0.08746783 0.09639408 0.11334923 0.11377429\n",
            " 0.12614825 0.12428271 0.12428271 0.11882778 0.12151939 0.12349299\n",
            " 0.12412692 0.12398103 0.12344978 0.12276752 0.12206058 0.12139543\n",
            " 0.12080913 0.12032437 0.11995537 0.11970922]\n",
            "12 day output [[0.11958656]]\n",
            "13 day input [0.0438756  0.04904716 0.05584811 0.0558245  0.06042931 0.06151557\n",
            " 0.05596618 0.05898883 0.05773727 0.05639124 0.05839847 0.05981534\n",
            " 0.07913193 0.07962784 0.07405483 0.06973339 0.07055518 0.06788911\n",
            " 0.06449099 0.06384159 0.06227124 0.05875269 0.05875269 0.06047654\n",
            " 0.05610787 0.05965003 0.04798451 0.04489102 0.04680379 0.0564857\n",
            " 0.06600231 0.06501051 0.07159893 0.06120859 0.06602593 0.06815123\n",
            " 0.0661244  0.06923749 0.06849151 0.0664746  0.06467991 0.06399509\n",
            " 0.0612799  0.05709968 0.05922497 0.06097244 0.06919026 0.07509221\n",
            " 0.07485772 0.07582591 0.07365528 0.07769145 0.07865965 0.08095024\n",
            " 0.07603844 0.07341724 0.07481049 0.08555506 0.08666493 0.08952228\n",
            " 0.08838879 0.08652325 0.10091624 0.09625239 0.09868468 0.10784707\n",
            " 0.1112688  0.10465913 0.10170732 0.09904267 0.094623   0.09299336\n",
            " 0.09436324 0.09672468 0.09091553 0.08978204 0.09393818 0.09287553\n",
            " 0.09104352 0.08746783 0.09639408 0.11334923 0.11377429 0.12614825\n",
            " 0.12428271 0.12428271 0.11882778 0.12151939 0.12349299 0.12412692\n",
            " 0.12398103 0.12344978 0.12276752 0.12206058 0.12139543 0.12080913\n",
            " 0.12032437 0.11995537 0.11970922 0.11958656]\n",
            "13 day output [[0.119582]]\n",
            "14 day input [0.04904716 0.05584811 0.0558245  0.06042931 0.06151557 0.05596618\n",
            " 0.05898883 0.05773727 0.05639124 0.05839847 0.05981534 0.07913193\n",
            " 0.07962784 0.07405483 0.06973339 0.07055518 0.06788911 0.06449099\n",
            " 0.06384159 0.06227124 0.05875269 0.05875269 0.06047654 0.05610787\n",
            " 0.05965003 0.04798451 0.04489102 0.04680379 0.0564857  0.06600231\n",
            " 0.06501051 0.07159893 0.06120859 0.06602593 0.06815123 0.0661244\n",
            " 0.06923749 0.06849151 0.0664746  0.06467991 0.06399509 0.0612799\n",
            " 0.05709968 0.05922497 0.06097244 0.06919026 0.07509221 0.07485772\n",
            " 0.07582591 0.07365528 0.07769145 0.07865965 0.08095024 0.07603844\n",
            " 0.07341724 0.07481049 0.08555506 0.08666493 0.08952228 0.08838879\n",
            " 0.08652325 0.10091624 0.09625239 0.09868468 0.10784707 0.1112688\n",
            " 0.10465913 0.10170732 0.09904267 0.094623   0.09299336 0.09436324\n",
            " 0.09672468 0.09091553 0.08978204 0.09393818 0.09287553 0.09104352\n",
            " 0.08746783 0.09639408 0.11334923 0.11377429 0.12614825 0.12428271\n",
            " 0.12428271 0.11882778 0.12151939 0.12349299 0.12412692 0.12398103\n",
            " 0.12344978 0.12276752 0.12206058 0.12139543 0.12080913 0.12032437\n",
            " 0.11995537 0.11970922 0.11958656 0.119582  ]\n",
            "14 day output [[0.11968516]]\n",
            "15 day input [0.05584811 0.0558245  0.06042931 0.06151557 0.05596618 0.05898883\n",
            " 0.05773727 0.05639124 0.05839847 0.05981534 0.07913193 0.07962784\n",
            " 0.07405483 0.06973339 0.07055518 0.06788911 0.06449099 0.06384159\n",
            " 0.06227124 0.05875269 0.05875269 0.06047654 0.05610787 0.05965003\n",
            " 0.04798451 0.04489102 0.04680379 0.0564857  0.06600231 0.06501051\n",
            " 0.07159893 0.06120859 0.06602593 0.06815123 0.0661244  0.06923749\n",
            " 0.06849151 0.0664746  0.06467991 0.06399509 0.0612799  0.05709968\n",
            " 0.05922497 0.06097244 0.06919026 0.07509221 0.07485772 0.07582591\n",
            " 0.07365528 0.07769145 0.07865965 0.08095024 0.07603844 0.07341724\n",
            " 0.07481049 0.08555506 0.08666493 0.08952228 0.08838879 0.08652325\n",
            " 0.10091624 0.09625239 0.09868468 0.10784707 0.1112688  0.10465913\n",
            " 0.10170732 0.09904267 0.094623   0.09299336 0.09436324 0.09672468\n",
            " 0.09091553 0.08978204 0.09393818 0.09287553 0.09104352 0.08746783\n",
            " 0.09639408 0.11334923 0.11377429 0.12614825 0.12428271 0.12428271\n",
            " 0.11882778 0.12151939 0.12349299 0.12412692 0.12398103 0.12344978\n",
            " 0.12276752 0.12206058 0.12139543 0.12080913 0.12032437 0.11995537\n",
            " 0.11970922 0.11958656 0.119582   0.11968516]\n",
            "15 day output [[0.11988189]]\n",
            "16 day input [0.0558245  0.06042931 0.06151557 0.05596618 0.05898883 0.05773727\n",
            " 0.05639124 0.05839847 0.05981534 0.07913193 0.07962784 0.07405483\n",
            " 0.06973339 0.07055518 0.06788911 0.06449099 0.06384159 0.06227124\n",
            " 0.05875269 0.05875269 0.06047654 0.05610787 0.05965003 0.04798451\n",
            " 0.04489102 0.04680379 0.0564857  0.06600231 0.06501051 0.07159893\n",
            " 0.06120859 0.06602593 0.06815123 0.0661244  0.06923749 0.06849151\n",
            " 0.0664746  0.06467991 0.06399509 0.0612799  0.05709968 0.05922497\n",
            " 0.06097244 0.06919026 0.07509221 0.07485772 0.07582591 0.07365528\n",
            " 0.07769145 0.07865965 0.08095024 0.07603844 0.07341724 0.07481049\n",
            " 0.08555506 0.08666493 0.08952228 0.08838879 0.08652325 0.10091624\n",
            " 0.09625239 0.09868468 0.10784707 0.1112688  0.10465913 0.10170732\n",
            " 0.09904267 0.094623   0.09299336 0.09436324 0.09672468 0.09091553\n",
            " 0.08978204 0.09393818 0.09287553 0.09104352 0.08746783 0.09639408\n",
            " 0.11334923 0.11377429 0.12614825 0.12428271 0.12428271 0.11882778\n",
            " 0.12151939 0.12349299 0.12412692 0.12398103 0.12344978 0.12276752\n",
            " 0.12206058 0.12139543 0.12080913 0.12032437 0.11995537 0.11970922\n",
            " 0.11958656 0.119582   0.11968516 0.11988189]\n",
            "16 day output [[0.1201558]]\n",
            "17 day input [0.06042931 0.06151557 0.05596618 0.05898883 0.05773727 0.05639124\n",
            " 0.05839847 0.05981534 0.07913193 0.07962784 0.07405483 0.06973339\n",
            " 0.07055518 0.06788911 0.06449099 0.06384159 0.06227124 0.05875269\n",
            " 0.05875269 0.06047654 0.05610787 0.05965003 0.04798451 0.04489102\n",
            " 0.04680379 0.0564857  0.06600231 0.06501051 0.07159893 0.06120859\n",
            " 0.06602593 0.06815123 0.0661244  0.06923749 0.06849151 0.0664746\n",
            " 0.06467991 0.06399509 0.0612799  0.05709968 0.05922497 0.06097244\n",
            " 0.06919026 0.07509221 0.07485772 0.07582591 0.07365528 0.07769145\n",
            " 0.07865965 0.08095024 0.07603844 0.07341724 0.07481049 0.08555506\n",
            " 0.08666493 0.08952228 0.08838879 0.08652325 0.10091624 0.09625239\n",
            " 0.09868468 0.10784707 0.1112688  0.10465913 0.10170732 0.09904267\n",
            " 0.094623   0.09299336 0.09436324 0.09672468 0.09091553 0.08978204\n",
            " 0.09393818 0.09287553 0.09104352 0.08746783 0.09639408 0.11334923\n",
            " 0.11377429 0.12614825 0.12428271 0.12428271 0.11882778 0.12151939\n",
            " 0.12349299 0.12412692 0.12398103 0.12344978 0.12276752 0.12206058\n",
            " 0.12139543 0.12080913 0.12032437 0.11995537 0.11970922 0.11958656\n",
            " 0.119582   0.11968516 0.11988189 0.1201558 ]\n",
            "17 day output [[0.12048959]]\n",
            "18 day input [0.06151557 0.05596618 0.05898883 0.05773727 0.05639124 0.05839847\n",
            " 0.05981534 0.07913193 0.07962784 0.07405483 0.06973339 0.07055518\n",
            " 0.06788911 0.06449099 0.06384159 0.06227124 0.05875269 0.05875269\n",
            " 0.06047654 0.05610787 0.05965003 0.04798451 0.04489102 0.04680379\n",
            " 0.0564857  0.06600231 0.06501051 0.07159893 0.06120859 0.06602593\n",
            " 0.06815123 0.0661244  0.06923749 0.06849151 0.0664746  0.06467991\n",
            " 0.06399509 0.0612799  0.05709968 0.05922497 0.06097244 0.06919026\n",
            " 0.07509221 0.07485772 0.07582591 0.07365528 0.07769145 0.07865965\n",
            " 0.08095024 0.07603844 0.07341724 0.07481049 0.08555506 0.08666493\n",
            " 0.08952228 0.08838879 0.08652325 0.10091624 0.09625239 0.09868468\n",
            " 0.10784707 0.1112688  0.10465913 0.10170732 0.09904267 0.094623\n",
            " 0.09299336 0.09436324 0.09672468 0.09091553 0.08978204 0.09393818\n",
            " 0.09287553 0.09104352 0.08746783 0.09639408 0.11334923 0.11377429\n",
            " 0.12614825 0.12428271 0.12428271 0.11882778 0.12151939 0.12349299\n",
            " 0.12412692 0.12398103 0.12344978 0.12276752 0.12206058 0.12139543\n",
            " 0.12080913 0.12032437 0.11995537 0.11970922 0.11958656 0.119582\n",
            " 0.11968516 0.11988189 0.1201558  0.12048959]\n",
            "18 day output [[0.12086613]]\n",
            "19 day input [0.05596618 0.05898883 0.05773727 0.05639124 0.05839847 0.05981534\n",
            " 0.07913193 0.07962784 0.07405483 0.06973339 0.07055518 0.06788911\n",
            " 0.06449099 0.06384159 0.06227124 0.05875269 0.05875269 0.06047654\n",
            " 0.05610787 0.05965003 0.04798451 0.04489102 0.04680379 0.0564857\n",
            " 0.06600231 0.06501051 0.07159893 0.06120859 0.06602593 0.06815123\n",
            " 0.0661244  0.06923749 0.06849151 0.0664746  0.06467991 0.06399509\n",
            " 0.0612799  0.05709968 0.05922497 0.06097244 0.06919026 0.07509221\n",
            " 0.07485772 0.07582591 0.07365528 0.07769145 0.07865965 0.08095024\n",
            " 0.07603844 0.07341724 0.07481049 0.08555506 0.08666493 0.08952228\n",
            " 0.08838879 0.08652325 0.10091624 0.09625239 0.09868468 0.10784707\n",
            " 0.1112688  0.10465913 0.10170732 0.09904267 0.094623   0.09299336\n",
            " 0.09436324 0.09672468 0.09091553 0.08978204 0.09393818 0.09287553\n",
            " 0.09104352 0.08746783 0.09639408 0.11334923 0.11377429 0.12614825\n",
            " 0.12428271 0.12428271 0.11882778 0.12151939 0.12349299 0.12412692\n",
            " 0.12398103 0.12344978 0.12276752 0.12206058 0.12139543 0.12080913\n",
            " 0.12032437 0.11995537 0.11970922 0.11958656 0.119582   0.11968516\n",
            " 0.11988189 0.1201558  0.12048959 0.12086613]\n",
            "19 day output [[0.12126939]]\n",
            "20 day input [0.05898883 0.05773727 0.05639124 0.05839847 0.05981534 0.07913193\n",
            " 0.07962784 0.07405483 0.06973339 0.07055518 0.06788911 0.06449099\n",
            " 0.06384159 0.06227124 0.05875269 0.05875269 0.06047654 0.05610787\n",
            " 0.05965003 0.04798451 0.04489102 0.04680379 0.0564857  0.06600231\n",
            " 0.06501051 0.07159893 0.06120859 0.06602593 0.06815123 0.0661244\n",
            " 0.06923749 0.06849151 0.0664746  0.06467991 0.06399509 0.0612799\n",
            " 0.05709968 0.05922497 0.06097244 0.06919026 0.07509221 0.07485772\n",
            " 0.07582591 0.07365528 0.07769145 0.07865965 0.08095024 0.07603844\n",
            " 0.07341724 0.07481049 0.08555506 0.08666493 0.08952228 0.08838879\n",
            " 0.08652325 0.10091624 0.09625239 0.09868468 0.10784707 0.1112688\n",
            " 0.10465913 0.10170732 0.09904267 0.094623   0.09299336 0.09436324\n",
            " 0.09672468 0.09091553 0.08978204 0.09393818 0.09287553 0.09104352\n",
            " 0.08746783 0.09639408 0.11334923 0.11377429 0.12614825 0.12428271\n",
            " 0.12428271 0.11882778 0.12151939 0.12349299 0.12412692 0.12398103\n",
            " 0.12344978 0.12276752 0.12206058 0.12139543 0.12080913 0.12032437\n",
            " 0.11995537 0.11970922 0.11958656 0.119582   0.11968516 0.11988189\n",
            " 0.1201558  0.12048959 0.12086613 0.12126939]\n",
            "20 day output [[0.12168516]]\n",
            "21 day input [0.05773727 0.05639124 0.05839847 0.05981534 0.07913193 0.07962784\n",
            " 0.07405483 0.06973339 0.07055518 0.06788911 0.06449099 0.06384159\n",
            " 0.06227124 0.05875269 0.05875269 0.06047654 0.05610787 0.05965003\n",
            " 0.04798451 0.04489102 0.04680379 0.0564857  0.06600231 0.06501051\n",
            " 0.07159893 0.06120859 0.06602593 0.06815123 0.0661244  0.06923749\n",
            " 0.06849151 0.0664746  0.06467991 0.06399509 0.0612799  0.05709968\n",
            " 0.05922497 0.06097244 0.06919026 0.07509221 0.07485772 0.07582591\n",
            " 0.07365528 0.07769145 0.07865965 0.08095024 0.07603844 0.07341724\n",
            " 0.07481049 0.08555506 0.08666493 0.08952228 0.08838879 0.08652325\n",
            " 0.10091624 0.09625239 0.09868468 0.10784707 0.1112688  0.10465913\n",
            " 0.10170732 0.09904267 0.094623   0.09299336 0.09436324 0.09672468\n",
            " 0.09091553 0.08978204 0.09393818 0.09287553 0.09104352 0.08746783\n",
            " 0.09639408 0.11334923 0.11377429 0.12614825 0.12428271 0.12428271\n",
            " 0.11882778 0.12151939 0.12349299 0.12412692 0.12398103 0.12344978\n",
            " 0.12276752 0.12206058 0.12139543 0.12080913 0.12032437 0.11995537\n",
            " 0.11970922 0.11958656 0.119582   0.11968516 0.11988189 0.1201558\n",
            " 0.12048959 0.12086613 0.12126939 0.12168516]\n",
            "21 day output [[0.12210145]]\n",
            "22 day input [0.05639124 0.05839847 0.05981534 0.07913193 0.07962784 0.07405483\n",
            " 0.06973339 0.07055518 0.06788911 0.06449099 0.06384159 0.06227124\n",
            " 0.05875269 0.05875269 0.06047654 0.05610787 0.05965003 0.04798451\n",
            " 0.04489102 0.04680379 0.0564857  0.06600231 0.06501051 0.07159893\n",
            " 0.06120859 0.06602593 0.06815123 0.0661244  0.06923749 0.06849151\n",
            " 0.0664746  0.06467991 0.06399509 0.0612799  0.05709968 0.05922497\n",
            " 0.06097244 0.06919026 0.07509221 0.07485772 0.07582591 0.07365528\n",
            " 0.07769145 0.07865965 0.08095024 0.07603844 0.07341724 0.07481049\n",
            " 0.08555506 0.08666493 0.08952228 0.08838879 0.08652325 0.10091624\n",
            " 0.09625239 0.09868468 0.10784707 0.1112688  0.10465913 0.10170732\n",
            " 0.09904267 0.094623   0.09299336 0.09436324 0.09672468 0.09091553\n",
            " 0.08978204 0.09393818 0.09287553 0.09104352 0.08746783 0.09639408\n",
            " 0.11334923 0.11377429 0.12614825 0.12428271 0.12428271 0.11882778\n",
            " 0.12151939 0.12349299 0.12412692 0.12398103 0.12344978 0.12276752\n",
            " 0.12206058 0.12139543 0.12080913 0.12032437 0.11995537 0.11970922\n",
            " 0.11958656 0.119582   0.11968516 0.11988189 0.1201558  0.12048959\n",
            " 0.12086613 0.12126939 0.12168516 0.12210145]\n",
            "22 day output [[0.12250862]]\n",
            "23 day input [0.05839847 0.05981534 0.07913193 0.07962784 0.07405483 0.06973339\n",
            " 0.07055518 0.06788911 0.06449099 0.06384159 0.06227124 0.05875269\n",
            " 0.05875269 0.06047654 0.05610787 0.05965003 0.04798451 0.04489102\n",
            " 0.04680379 0.0564857  0.06600231 0.06501051 0.07159893 0.06120859\n",
            " 0.06602593 0.06815123 0.0661244  0.06923749 0.06849151 0.0664746\n",
            " 0.06467991 0.06399509 0.0612799  0.05709968 0.05922497 0.06097244\n",
            " 0.06919026 0.07509221 0.07485772 0.07582591 0.07365528 0.07769145\n",
            " 0.07865965 0.08095024 0.07603844 0.07341724 0.07481049 0.08555506\n",
            " 0.08666493 0.08952228 0.08838879 0.08652325 0.10091624 0.09625239\n",
            " 0.09868468 0.10784707 0.1112688  0.10465913 0.10170732 0.09904267\n",
            " 0.094623   0.09299336 0.09436324 0.09672468 0.09091553 0.08978204\n",
            " 0.09393818 0.09287553 0.09104352 0.08746783 0.09639408 0.11334923\n",
            " 0.11377429 0.12614825 0.12428271 0.12428271 0.11882778 0.12151939\n",
            " 0.12349299 0.12412692 0.12398103 0.12344978 0.12276752 0.12206058\n",
            " 0.12139543 0.12080913 0.12032437 0.11995537 0.11970922 0.11958656\n",
            " 0.119582   0.11968516 0.11988189 0.1201558  0.12048959 0.12086613\n",
            " 0.12126939 0.12168516 0.12210145 0.12250862]\n",
            "23 day output [[0.12289955]]\n",
            "24 day input [0.05981534 0.07913193 0.07962784 0.07405483 0.06973339 0.07055518\n",
            " 0.06788911 0.06449099 0.06384159 0.06227124 0.05875269 0.05875269\n",
            " 0.06047654 0.05610787 0.05965003 0.04798451 0.04489102 0.04680379\n",
            " 0.0564857  0.06600231 0.06501051 0.07159893 0.06120859 0.06602593\n",
            " 0.06815123 0.0661244  0.06923749 0.06849151 0.0664746  0.06467991\n",
            " 0.06399509 0.0612799  0.05709968 0.05922497 0.06097244 0.06919026\n",
            " 0.07509221 0.07485772 0.07582591 0.07365528 0.07769145 0.07865965\n",
            " 0.08095024 0.07603844 0.07341724 0.07481049 0.08555506 0.08666493\n",
            " 0.08952228 0.08838879 0.08652325 0.10091624 0.09625239 0.09868468\n",
            " 0.10784707 0.1112688  0.10465913 0.10170732 0.09904267 0.094623\n",
            " 0.09299336 0.09436324 0.09672468 0.09091553 0.08978204 0.09393818\n",
            " 0.09287553 0.09104352 0.08746783 0.09639408 0.11334923 0.11377429\n",
            " 0.12614825 0.12428271 0.12428271 0.11882778 0.12151939 0.12349299\n",
            " 0.12412692 0.12398103 0.12344978 0.12276752 0.12206058 0.12139543\n",
            " 0.12080913 0.12032437 0.11995537 0.11970922 0.11958656 0.119582\n",
            " 0.11968516 0.11988189 0.1201558  0.12048959 0.12086613 0.12126939\n",
            " 0.12168516 0.12210145 0.12250862 0.12289955]\n",
            "24 day output [[0.12326944]]\n",
            "25 day input [0.07913193 0.07962784 0.07405483 0.06973339 0.07055518 0.06788911\n",
            " 0.06449099 0.06384159 0.06227124 0.05875269 0.05875269 0.06047654\n",
            " 0.05610787 0.05965003 0.04798451 0.04489102 0.04680379 0.0564857\n",
            " 0.06600231 0.06501051 0.07159893 0.06120859 0.06602593 0.06815123\n",
            " 0.0661244  0.06923749 0.06849151 0.0664746  0.06467991 0.06399509\n",
            " 0.0612799  0.05709968 0.05922497 0.06097244 0.06919026 0.07509221\n",
            " 0.07485772 0.07582591 0.07365528 0.07769145 0.07865965 0.08095024\n",
            " 0.07603844 0.07341724 0.07481049 0.08555506 0.08666493 0.08952228\n",
            " 0.08838879 0.08652325 0.10091624 0.09625239 0.09868468 0.10784707\n",
            " 0.1112688  0.10465913 0.10170732 0.09904267 0.094623   0.09299336\n",
            " 0.09436324 0.09672468 0.09091553 0.08978204 0.09393818 0.09287553\n",
            " 0.09104352 0.08746783 0.09639408 0.11334923 0.11377429 0.12614825\n",
            " 0.12428271 0.12428271 0.11882778 0.12151939 0.12349299 0.12412692\n",
            " 0.12398103 0.12344978 0.12276752 0.12206058 0.12139543 0.12080913\n",
            " 0.12032437 0.11995537 0.11970922 0.11958656 0.119582   0.11968516\n",
            " 0.11988189 0.1201558  0.12048959 0.12086613 0.12126939 0.12168516\n",
            " 0.12210145 0.12250862 0.12289955 0.12326944]\n",
            "25 day output [[0.12361567]]\n",
            "26 day input [0.07962784 0.07405483 0.06973339 0.07055518 0.06788911 0.06449099\n",
            " 0.06384159 0.06227124 0.05875269 0.05875269 0.06047654 0.05610787\n",
            " 0.05965003 0.04798451 0.04489102 0.04680379 0.0564857  0.06600231\n",
            " 0.06501051 0.07159893 0.06120859 0.06602593 0.06815123 0.0661244\n",
            " 0.06923749 0.06849151 0.0664746  0.06467991 0.06399509 0.0612799\n",
            " 0.05709968 0.05922497 0.06097244 0.06919026 0.07509221 0.07485772\n",
            " 0.07582591 0.07365528 0.07769145 0.07865965 0.08095024 0.07603844\n",
            " 0.07341724 0.07481049 0.08555506 0.08666493 0.08952228 0.08838879\n",
            " 0.08652325 0.10091624 0.09625239 0.09868468 0.10784707 0.1112688\n",
            " 0.10465913 0.10170732 0.09904267 0.094623   0.09299336 0.09436324\n",
            " 0.09672468 0.09091553 0.08978204 0.09393818 0.09287553 0.09104352\n",
            " 0.08746783 0.09639408 0.11334923 0.11377429 0.12614825 0.12428271\n",
            " 0.12428271 0.11882778 0.12151939 0.12349299 0.12412692 0.12398103\n",
            " 0.12344978 0.12276752 0.12206058 0.12139543 0.12080913 0.12032437\n",
            " 0.11995537 0.11970922 0.11958656 0.119582   0.11968516 0.11988189\n",
            " 0.1201558  0.12048959 0.12086613 0.12126939 0.12168516 0.12210145\n",
            " 0.12250862 0.12289955 0.12326944 0.12361567]\n",
            "26 day output [[0.12393744]]\n",
            "27 day input [0.07405483 0.06973339 0.07055518 0.06788911 0.06449099 0.06384159\n",
            " 0.06227124 0.05875269 0.05875269 0.06047654 0.05610787 0.05965003\n",
            " 0.04798451 0.04489102 0.04680379 0.0564857  0.06600231 0.06501051\n",
            " 0.07159893 0.06120859 0.06602593 0.06815123 0.0661244  0.06923749\n",
            " 0.06849151 0.0664746  0.06467991 0.06399509 0.0612799  0.05709968\n",
            " 0.05922497 0.06097244 0.06919026 0.07509221 0.07485772 0.07582591\n",
            " 0.07365528 0.07769145 0.07865965 0.08095024 0.07603844 0.07341724\n",
            " 0.07481049 0.08555506 0.08666493 0.08952228 0.08838879 0.08652325\n",
            " 0.10091624 0.09625239 0.09868468 0.10784707 0.1112688  0.10465913\n",
            " 0.10170732 0.09904267 0.094623   0.09299336 0.09436324 0.09672468\n",
            " 0.09091553 0.08978204 0.09393818 0.09287553 0.09104352 0.08746783\n",
            " 0.09639408 0.11334923 0.11377429 0.12614825 0.12428271 0.12428271\n",
            " 0.11882778 0.12151939 0.12349299 0.12412692 0.12398103 0.12344978\n",
            " 0.12276752 0.12206058 0.12139543 0.12080913 0.12032437 0.11995537\n",
            " 0.11970922 0.11958656 0.119582   0.11968516 0.11988189 0.1201558\n",
            " 0.12048959 0.12086613 0.12126939 0.12168516 0.12210145 0.12250862\n",
            " 0.12289955 0.12326944 0.12361567 0.12393744]\n",
            "27 day output [[0.1242355]]\n",
            "28 day input [0.06973339 0.07055518 0.06788911 0.06449099 0.06384159 0.06227124\n",
            " 0.05875269 0.05875269 0.06047654 0.05610787 0.05965003 0.04798451\n",
            " 0.04489102 0.04680379 0.0564857  0.06600231 0.06501051 0.07159893\n",
            " 0.06120859 0.06602593 0.06815123 0.0661244  0.06923749 0.06849151\n",
            " 0.0664746  0.06467991 0.06399509 0.0612799  0.05709968 0.05922497\n",
            " 0.06097244 0.06919026 0.07509221 0.07485772 0.07582591 0.07365528\n",
            " 0.07769145 0.07865965 0.08095024 0.07603844 0.07341724 0.07481049\n",
            " 0.08555506 0.08666493 0.08952228 0.08838879 0.08652325 0.10091624\n",
            " 0.09625239 0.09868468 0.10784707 0.1112688  0.10465913 0.10170732\n",
            " 0.09904267 0.094623   0.09299336 0.09436324 0.09672468 0.09091553\n",
            " 0.08978204 0.09393818 0.09287553 0.09104352 0.08746783 0.09639408\n",
            " 0.11334923 0.11377429 0.12614825 0.12428271 0.12428271 0.11882778\n",
            " 0.12151939 0.12349299 0.12412692 0.12398103 0.12344978 0.12276752\n",
            " 0.12206058 0.12139543 0.12080913 0.12032437 0.11995537 0.11970922\n",
            " 0.11958656 0.119582   0.11968516 0.11988189 0.1201558  0.12048959\n",
            " 0.12086613 0.12126939 0.12168516 0.12210145 0.12250862 0.12289955\n",
            " 0.12326944 0.12361567 0.12393744 0.1242355 ]\n",
            "28 day output [[0.12451178]]\n",
            "29 day input [0.07055518 0.06788911 0.06449099 0.06384159 0.06227124 0.05875269\n",
            " 0.05875269 0.06047654 0.05610787 0.05965003 0.04798451 0.04489102\n",
            " 0.04680379 0.0564857  0.06600231 0.06501051 0.07159893 0.06120859\n",
            " 0.06602593 0.06815123 0.0661244  0.06923749 0.06849151 0.0664746\n",
            " 0.06467991 0.06399509 0.0612799  0.05709968 0.05922497 0.06097244\n",
            " 0.06919026 0.07509221 0.07485772 0.07582591 0.07365528 0.07769145\n",
            " 0.07865965 0.08095024 0.07603844 0.07341724 0.07481049 0.08555506\n",
            " 0.08666493 0.08952228 0.08838879 0.08652325 0.10091624 0.09625239\n",
            " 0.09868468 0.10784707 0.1112688  0.10465913 0.10170732 0.09904267\n",
            " 0.094623   0.09299336 0.09436324 0.09672468 0.09091553 0.08978204\n",
            " 0.09393818 0.09287553 0.09104352 0.08746783 0.09639408 0.11334923\n",
            " 0.11377429 0.12614825 0.12428271 0.12428271 0.11882778 0.12151939\n",
            " 0.12349299 0.12412692 0.12398103 0.12344978 0.12276752 0.12206058\n",
            " 0.12139543 0.12080913 0.12032437 0.11995537 0.11970922 0.11958656\n",
            " 0.119582   0.11968516 0.11988189 0.1201558  0.12048959 0.12086613\n",
            " 0.12126939 0.12168516 0.12210145 0.12250862 0.12289955 0.12326944\n",
            " 0.12361567 0.12393744 0.1242355  0.12451178]\n",
            "29 day output [[0.12476904]]\n",
            "[[0.12151938676834106], [0.12349299341440201], [0.12412691861391068], [0.12398102879524231], [0.12344978004693985], [0.12276751548051834], [0.12206058204174042], [0.12139543145895004], [0.12080913037061691], [0.12032437324523926], [0.11995536834001541], [0.11970921605825424], [0.11958656460046768], [0.11958199739456177], [0.11968515813350677], [0.11988189071416855], [0.12015579640865326], [0.12048958986997604], [0.12086612731218338], [0.12126938998699188], [0.12168516218662262], [0.12210144847631454], [0.12250862270593643], [0.12289954721927643], [0.12326943874359131], [0.12361567467451096], [0.12393743544816971], [0.12423550337553024], [0.12451177835464478], [0.12476903945207596]]\n"
          ],
          "name": "stdout"
        }
      ]
    },
    {
      "cell_type": "code",
      "metadata": {
        "id": "FirFHhSl6VYJ"
      },
      "source": [
        "day_new=np.arange(1,101)\r\n",
        "day_pred=np.arange(101,131)"
      ],
      "execution_count": 102,
      "outputs": []
    },
    {
      "cell_type": "code",
      "metadata": {
        "colab": {
          "base_uri": "https://localhost:8080/",
          "height": 282
        },
        "id": "eeovggN-6b69",
        "outputId": "00188ffb-1038-48e5-f549-63296f01b1ac"
      },
      "source": [
        "plt.plot(day_new,scaler.inverse_transform(df1[1158:]))\r\n",
        "plt.plot(day_pred,scaler.inverse_transform(lst_output))"
      ],
      "execution_count": 103,
      "outputs": [
        {
          "output_type": "execute_result",
          "data": {
            "text/plain": [
              "[<matplotlib.lines.Line2D at 0x7fe810d41e10>]"
            ]
          },
          "metadata": {
            "tags": []
          },
          "execution_count": 103
        },
        {
          "output_type": "display_data",
          "data": {
            "image/png": "[encoded data removed]",
            "text/plain": [
              "<Figure size 432x288 with 1 Axes>"
            ]
          },
          "metadata": {
            "tags": [],
            "needs_background": "light"
          }
        }
      ]
    },
    {
      "cell_type": "code",
      "metadata": {
        "colab": {
          "base_uri": "https://localhost:8080/",
          "height": 282
        },
        "id": "-eFQGjUb6hqO",
        "outputId": "d973d289-c9e4-49ea-eddd-8ed37992074f"
      },
      "source": [
        "df3=df1.tolist()\r\n",
        "df3.extend(lst_output)\r\n",
        "plt.plot(df3[1200:])"
      ],
      "execution_count": 104,
      "outputs": [
        {
          "output_type": "execute_result",
          "data": {
            "text/plain": [
              "[<matplotlib.lines.Line2D at 0x7fe80ffc7780>]"
            ]
          },
          "metadata": {
            "tags": []
          },
          "execution_count": 104
        },
        {
          "output_type": "display_data",
          "data": {
            "image/png": "[encoded data removed]",
            "text/plain": [
              "<Figure size 432x288 with 1 Axes>"
            ]
          },
          "metadata": {
            "tags": [],
            "needs_background": "light"
          }
        }
      ]
    },
    {
      "cell_type": "code",
      "metadata": {
        "id": "1gAlu3Wt6lSR"
      },
      "source": [
        "\r\n",
        "df3=scaler.inverse_transform(df3).tolist()"
      ],
      "execution_count": 105,
      "outputs": []
    },
    {
      "cell_type": "code",
      "metadata": {
        "colab": {
          "base_uri": "https://localhost:8080/",
          "height": 282
        },
        "id": "MfrPMR7C6_RU",
        "outputId": "fda2286e-3ea8-4776-d048-9eaebe7df16a"
      },
      "source": [
        "\r\n",
        "plt.plot(df3)"
      ],
      "execution_count": 106,
      "outputs": [
        {
          "output_type": "execute_result",
          "data": {
            "text/plain": [
              "[<matplotlib.lines.Line2D at 0x7fe810d6a8d0>]"
            ]
          },
          "metadata": {
            "tags": []
          },
          "execution_count": 106
        },
        {
          "output_type": "display_data",
          "data": {
            "image/png": "[encoded data removed]",
            "text/plain": [
              "<Figure size 432x288 with 1 Axes>"
            ]
          },
          "metadata": {
            "tags": [],
            "needs_background": "light"
          }
        }
      ]
    },
    {
      "cell_type": "code",
      "metadata": {
        "id": "01tP12Dd7Bly"
      },
      "source": [
        ""
      ],
      "execution_count": null,
      "outputs": []
    }
  ]
}