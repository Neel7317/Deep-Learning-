{
  "nbformat": 4,
  "nbformat_minor": 0,
  "metadata": {
    "colab": {
      "name": "Lab 3-14th May.ipynb",
      "provenance": [],
      "include_colab_link": true
    },
    "kernelspec": {
      "name": "python3",
      "display_name": "Python 3"
    }
  },
  "cells": [
    {
      "cell_type": "markdown",
      "metadata": {
        "id": "view-in-github",
        "colab_type": "text"
      },
      "source": [
        "<a href=\"https://colab.research.google.com/github/Neel7317/Deep-Learning-/blob/master/%20Create%20a%20simple%20Neural%20Network%20From%20Scratch%20.ipynb\" target=\"_parent\"><img src=\"https://colab.research.google.com/assets/colab-badge.svg\" alt=\"Open In Colab\"/></a>"
      ]
    },
    {
      "cell_type": "code",
      "metadata": {
        "id": "_C-yPBINSh3K",
        "colab_type": "code",
        "colab": {}
      },
      "source": [
        "##### Create a simple Neural Network From Scratch"
      ],
      "execution_count": null,
      "outputs": []
    },
    {
      "cell_type": "code",
      "metadata": {
        "id": "W6nEefOmUeYG",
        "colab_type": "code",
        "colab": {}
      },
      "source": [
        "import numpy as np"
      ],
      "execution_count": null,
      "outputs": []
    },
    {
      "cell_type": "code",
      "metadata": {
        "id": "oyC_BRK3TZL2",
        "colab_type": "code",
        "colab": {}
      },
      "source": [
        "### Create the input samples\n",
        "input_samples = np.array([[0,0,1],\n",
        "                         [1,1,1],\n",
        "                         [1,0,1],\n",
        "                         [0,1,1]]) "
      ],
      "execution_count": null,
      "outputs": []
    },
    {
      "cell_type": "code",
      "metadata": {
        "id": "AHfbMNkOUcaW",
        "colab_type": "code",
        "colab": {}
      },
      "source": [
        "input_samples"
      ],
      "execution_count": null,
      "outputs": []
    },
    {
      "cell_type": "code",
      "metadata": {
        "id": "fAUA1cA4UnAz",
        "colab_type": "code",
        "colab": {}
      },
      "source": [
        "### Create the input samples\n",
        "output_samples = np.array([[0],[1],[1],[0]]) "
      ],
      "execution_count": null,
      "outputs": []
    },
    {
      "cell_type": "code",
      "metadata": {
        "id": "qG1nRsMsUy71",
        "colab_type": "code",
        "colab": {}
      },
      "source": [
        "output_samples"
      ],
      "execution_count": null,
      "outputs": []
    },
    {
      "cell_type": "code",
      "metadata": {
        "id": "pdtIbReDU08T",
        "colab_type": "code",
        "colab": {
          "base_uri": "https://localhost:8080/",
          "height": 67
        },
        "outputId": "c8fe6153-2e81-4ec5-8ebc-124bd70e7ae2"
      },
      "source": [
        "np.random.seed(10)\n",
        "weights = np.random.random((3,1))\n",
        "weights"
      ],
      "execution_count": null,
      "outputs": [
        {
          "output_type": "execute_result",
          "data": {
            "text/plain": [
              "array([[0.77132064],\n",
              "       [0.02075195],\n",
              "       [0.63364823]])"
            ]
          },
          "metadata": {
            "tags": []
          },
          "execution_count": 10
        }
      ]
    },
    {
      "cell_type": "code",
      "metadata": {
        "id": "kRCXTZ6AVdxx",
        "colab_type": "code",
        "colab": {}
      },
      "source": [
        "#### Activation Function (Sigmoid)\n",
        "def activation(x):\n",
        "  return 1 / (1 + np.exp(-x))"
      ],
      "execution_count": null,
      "outputs": []
    },
    {
      "cell_type": "code",
      "metadata": {
        "id": "xSGECnC7WIBR",
        "colab_type": "code",
        "colab": {
          "base_uri": "https://localhost:8080/",
          "height": 34
        },
        "outputId": "e5afacae-44a5-4e09-e07a-c0831d0c6b5a"
      },
      "source": [
        "activation(2)"
      ],
      "execution_count": null,
      "outputs": [
        {
          "output_type": "execute_result",
          "data": {
            "text/plain": [
              "1.0"
            ]
          },
          "metadata": {
            "tags": []
          },
          "execution_count": 17
        }
      ]
    },
    {
      "cell_type": "code",
      "metadata": {
        "id": "fks1lRYkZ9dY",
        "colab_type": "code",
        "colab": {}
      },
      "source": [
        "def derivative(x):\n",
        "  return x * (1-x)"
      ],
      "execution_count": null,
      "outputs": []
    },
    {
      "cell_type": "code",
      "metadata": {
        "id": "sTCdyuh7WM5l",
        "colab_type": "code",
        "colab": {}
      },
      "source": [
        "for i in range(500):\n",
        "  mul = np.dot(input_samples,weights)   ###dot matrix multiplication\n",
        "  outputs = activation(mul)\n",
        "  error = output_samples - outputs\n",
        "  adjustments = error * derivative(outputs)    #### Gradient Descent \n",
        "  weights += np.dot(input_samples.T,adjustments)   ### Backpropogation"
      ],
      "execution_count": null,
      "outputs": []
    },
    {
      "cell_type": "code",
      "metadata": {
        "id": "IPEjdTkwWraM",
        "colab_type": "code",
        "colab": {
          "base_uri": "https://localhost:8080/",
          "height": 84
        },
        "outputId": "0bbf92bf-c335-45fe-a2b2-45a366885e83"
      },
      "source": [
        "outputs.round()"
      ],
      "execution_count": null,
      "outputs": [
        {
          "output_type": "execute_result",
          "data": {
            "text/plain": [
              "array([[0.],\n",
              "       [1.],\n",
              "       [1.],\n",
              "       [0.]])"
            ]
          },
          "metadata": {
            "tags": []
          },
          "execution_count": 33
        }
      ]
    },
    {
      "cell_type": "code",
      "metadata": {
        "id": "7LWbhdDOanPT",
        "colab_type": "code",
        "colab": {
          "base_uri": "https://localhost:8080/",
          "height": 84
        },
        "outputId": "34c75ce0-b8ea-440d-ca95-a1d0ab7dd021"
      },
      "source": [
        "error"
      ],
      "execution_count": null,
      "outputs": [
        {
          "output_type": "execute_result",
          "data": {
            "text/plain": [
              "array([[-0.03374826],\n",
              "       [ 0.02740406],\n",
              "       [ 0.02200419],\n",
              "       [-0.02713317]])"
            ]
          },
          "metadata": {
            "tags": []
          },
          "execution_count": 32
        }
      ]
    },
    {
      "cell_type": "code",
      "metadata": {
        "id": "WncTSanlbI65",
        "colab_type": "code",
        "colab": {}
      },
      "source": [
        ""
      ],
      "execution_count": null,
      "outputs": []
    }
  ]
}