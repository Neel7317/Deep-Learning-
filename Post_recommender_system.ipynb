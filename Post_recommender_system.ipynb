{
  "nbformat": 4,
  "nbformat_minor": 0,
  "metadata": {
    "colab": {
      "name": "Post_recommender_system.ipynb",
      "provenance": [],
      "collapsed_sections": [],
      "authorship_tag": "ABX9TyOd6MQVb2ff061DExiixAf1",
      "include_colab_link": true
    },
    "kernelspec": {
      "name": "python3",
      "display_name": "Python 3"
    }
  },
  "cells": [
    {
      "cell_type": "markdown",
      "metadata": {
        "id": "view-in-github",
        "colab_type": "text"
      },
      "source": [
        "<a href=\"https://colab.research.google.com/github/Neel7317/Deep-Learning-/blob/master/Post_recommender_system.ipynb\" target=\"_parent\"><img src=\"https://colab.research.google.com/assets/colab-badge.svg\" alt=\"Open In Colab\"/></a>"
      ]
    },
    {
      "cell_type": "code",
      "metadata": {
        "id": "mzrJXx0wUufV"
      },
      "source": [
        "#importing necessary libraries\n",
        "import numpy as np\n",
        "import pandas as pd\n",
        "from sklearn.metrics.pairwise import cosine_similarity\n",
        "from sklearn.metrics import mean_squared_error\n",
        "from sklearn.model_selection import train_test_split\n",
        "from sklearn.feature_extraction.text import TfidfVectorizer\n",
        "from sklearn.metrics.pairwise import linear_kernel\n",
        "\n"
      ],
      "execution_count": null,
      "outputs": []
    },
    {
      "cell_type": "code",
      "metadata": {
        "id": "NdD82_CPU6kK"
      },
      "source": [
        "df = pd.read_csv('posts.csv')#read data from CSV file"
      ],
      "execution_count": null,
      "outputs": []
    },
    {
      "cell_type": "code",
      "metadata": {
        "id": "WFHBhqPcVc9P",
        "colab": {
          "base_uri": "https://localhost:8080/",
          "height": 195
        },
        "outputId": "37cd4ce8-a645-4996-8f2b-517f0cc6b553"
      },
      "source": [
        "df.head()"
      ],
      "execution_count": null,
      "outputs": [
        {
          "output_type": "execute_result",
          "data": {
            "text/html": [
              "<div>\n",
              "<style scoped>\n",
              "    .dataframe tbody tr th:only-of-type {\n",
              "        vertical-align: middle;\n",
              "    }\n",
              "\n",
              "    .dataframe tbody tr th {\n",
              "        vertical-align: top;\n",
              "    }\n",
              "\n",
              "    .dataframe thead th {\n",
              "        text-align: right;\n",
              "    }\n",
              "</style>\n",
              "<table border=\"1\" class=\"dataframe\">\n",
              "  <thead>\n",
              "    <tr style=\"text-align: right;\">\n",
              "      <th></th>\n",
              "      <th>_id</th>\n",
              "      <th>title</th>\n",
              "      <th>category</th>\n",
              "      <th>post_type</th>\n",
              "    </tr>\n",
              "  </thead>\n",
              "  <tbody>\n",
              "    <tr>\n",
              "      <th>0</th>\n",
              "      <td>5d62abaa65218653a132c956</td>\n",
              "      <td>hello there</td>\n",
              "      <td>Plant Biotechnology</td>\n",
              "      <td>blog</td>\n",
              "    </tr>\n",
              "    <tr>\n",
              "      <th>1</th>\n",
              "      <td>5d6d39567fa40e1417a4931c</td>\n",
              "      <td>Ml and AI</td>\n",
              "      <td>Artificial Intelligence|Machine Learning|Infor...</td>\n",
              "      <td>blog</td>\n",
              "    </tr>\n",
              "    <tr>\n",
              "      <th>2</th>\n",
              "      <td>5d7d23315720533e15c3b1ee</td>\n",
              "      <td>What is an Operating System ?</td>\n",
              "      <td>Operating Systems</td>\n",
              "      <td>blog</td>\n",
              "    </tr>\n",
              "    <tr>\n",
              "      <th>3</th>\n",
              "      <td>5d7d405e5720533e15c3b1f3</td>\n",
              "      <td>Lord Shiva</td>\n",
              "      <td>Drawings</td>\n",
              "      <td>artwork</td>\n",
              "    </tr>\n",
              "    <tr>\n",
              "      <th>4</th>\n",
              "      <td>5d80dfbc6c53455f896e600e</td>\n",
              "      <td>How Competition law evolved?</td>\n",
              "      <td>Competition Laws</td>\n",
              "      <td>blog</td>\n",
              "    </tr>\n",
              "  </tbody>\n",
              "</table>\n",
              "</div>"
            ],
            "text/plain": [
              "                        _id  ...  post_type\n",
              "0  5d62abaa65218653a132c956  ...       blog\n",
              "1  5d6d39567fa40e1417a4931c  ...       blog\n",
              "2  5d7d23315720533e15c3b1ee  ...       blog\n",
              "3  5d7d405e5720533e15c3b1f3  ...    artwork\n",
              "4  5d80dfbc6c53455f896e600e  ...       blog\n",
              "\n",
              "[5 rows x 4 columns]"
            ]
          },
          "metadata": {
            "tags": []
          },
          "execution_count": 49
        }
      ]
    },
    {
      "cell_type": "code",
      "metadata": {
        "id": "cugo8wJLVg7Q",
        "colab": {
          "base_uri": "https://localhost:8080/",
          "height": 195
        },
        "outputId": "1fee6e54-72bb-4325-d813-e5d7455f07fc"
      },
      "source": [
        "df = df.assign(_id=(df['title'] + '_' + df['category']).astype('category').cat.codes)#make id int from alphanumeric \n",
        "df.head()"
      ],
      "execution_count": null,
      "outputs": [
        {
          "output_type": "execute_result",
          "data": {
            "text/html": [
              "<div>\n",
              "<style scoped>\n",
              "    .dataframe tbody tr th:only-of-type {\n",
              "        vertical-align: middle;\n",
              "    }\n",
              "\n",
              "    .dataframe tbody tr th {\n",
              "        vertical-align: top;\n",
              "    }\n",
              "\n",
              "    .dataframe thead th {\n",
              "        text-align: right;\n",
              "    }\n",
              "</style>\n",
              "<table border=\"1\" class=\"dataframe\">\n",
              "  <thead>\n",
              "    <tr style=\"text-align: right;\">\n",
              "      <th></th>\n",
              "      <th>_id</th>\n",
              "      <th>title</th>\n",
              "      <th>category</th>\n",
              "      <th>post_type</th>\n",
              "    </tr>\n",
              "  </thead>\n",
              "  <tbody>\n",
              "    <tr>\n",
              "      <th>0</th>\n",
              "      <td>443</td>\n",
              "      <td>hello there</td>\n",
              "      <td>Plant Biotechnology</td>\n",
              "      <td>blog</td>\n",
              "    </tr>\n",
              "    <tr>\n",
              "      <th>1</th>\n",
              "      <td>248</td>\n",
              "      <td>Ml and AI</td>\n",
              "      <td>Artificial Intelligence|Machine Learning|Infor...</td>\n",
              "      <td>blog</td>\n",
              "    </tr>\n",
              "    <tr>\n",
              "      <th>2</th>\n",
              "      <td>418</td>\n",
              "      <td>What is an Operating System ?</td>\n",
              "      <td>Operating Systems</td>\n",
              "      <td>blog</td>\n",
              "    </tr>\n",
              "    <tr>\n",
              "      <th>3</th>\n",
              "      <td>227</td>\n",
              "      <td>Lord Shiva</td>\n",
              "      <td>Drawings</td>\n",
              "      <td>artwork</td>\n",
              "    </tr>\n",
              "    <tr>\n",
              "      <th>4</th>\n",
              "      <td>177</td>\n",
              "      <td>How Competition law evolved?</td>\n",
              "      <td>Competition Laws</td>\n",
              "      <td>blog</td>\n",
              "    </tr>\n",
              "  </tbody>\n",
              "</table>\n",
              "</div>"
            ],
            "text/plain": [
              "   _id  ...  post_type\n",
              "0  443  ...       blog\n",
              "1  248  ...       blog\n",
              "2  418  ...       blog\n",
              "3  227  ...    artwork\n",
              "4  177  ...       blog\n",
              "\n",
              "[5 rows x 4 columns]"
            ]
          },
          "metadata": {
            "tags": []
          },
          "execution_count": 50
        }
      ]
    },
    {
      "cell_type": "code",
      "metadata": {
        "id": "FCWe-j4aVyBv",
        "colab": {
          "base_uri": "https://localhost:8080/",
          "height": 35
        },
        "outputId": "9d4cdd3b-6a84-4ff9-e103-de59bcb120b0"
      },
      "source": [
        "df['category'][0]"
      ],
      "execution_count": null,
      "outputs": [
        {
          "output_type": "execute_result",
          "data": {
            "application/vnd.google.colaboratory.intrinsic+json": {
              "type": "string"
            },
            "text/plain": [
              "'Plant Biotechnology'"
            ]
          },
          "metadata": {
            "tags": []
          },
          "execution_count": 51
        }
      ]
    },
    {
      "cell_type": "code",
      "metadata": {
        "id": "qNZX9kRrV-nv"
      },
      "source": [
        "tfidf = TfidfVectorizer(stop_words='english')"
      ],
      "execution_count": null,
      "outputs": []
    },
    {
      "cell_type": "code",
      "metadata": {
        "id": "Kj2cPIlUWJaf"
      },
      "source": [
        "df['category'] = df['category'].fillna('')#fill NaN value with blank space string"
      ],
      "execution_count": null,
      "outputs": []
    },
    {
      "cell_type": "code",
      "metadata": {
        "id": "b6hBNgGXWpzv"
      },
      "source": [
        "#Construct the required TF-IDF matrix by applying the fit_transform method on the category feature\n",
        "category_matrix = tfidf.fit_transform(df['category'])"
      ],
      "execution_count": null,
      "outputs": []
    },
    {
      "cell_type": "code",
      "metadata": {
        "id": "k8rWkb5XW7yv",
        "colab": {
          "base_uri": "https://localhost:8080/"
        },
        "outputId": "e02b5940-3766-41f4-891a-9dd07c53f04e"
      },
      "source": [
        "##Output the shape of tfidf_matrix\n",
        "category_matrix.shape"
      ],
      "execution_count": null,
      "outputs": [
        {
          "output_type": "execute_result",
          "data": {
            "text/plain": [
              "(493, 266)"
            ]
          },
          "metadata": {
            "tags": []
          },
          "execution_count": 55
        }
      ]
    },
    {
      "cell_type": "code",
      "metadata": {
        "id": "aURJjWU-XBeA",
        "colab": {
          "base_uri": "https://localhost:8080/"
        },
        "outputId": "b9488a29-febc-4695-f184-5aad119d7fde"
      },
      "source": [
        "similarity_matrix = linear_kernel(category_matrix,category_matrix)\n",
        "\n",
        "similarity_matrix"
      ],
      "execution_count": null,
      "outputs": [
        {
          "output_type": "execute_result",
          "data": {
            "text/plain": [
              "array([[1.        , 0.        , 0.        , ..., 0.        , 0.        ,\n",
              "        0.        ],\n",
              "       [0.        , 1.        , 0.        , ..., 0.        , 0.15033338,\n",
              "        0.30692944],\n",
              "       [0.        , 0.        , 1.        , ..., 0.        , 0.        ,\n",
              "        0.        ],\n",
              "       ...,\n",
              "       [0.        , 0.        , 0.        , ..., 0.        , 0.        ,\n",
              "        0.        ],\n",
              "       [0.        , 0.15033338, 0.        , ..., 0.        , 1.        ,\n",
              "        0.31439084],\n",
              "       [0.        , 0.30692944, 0.        , ..., 0.        , 0.31439084,\n",
              "        1.        ]])"
            ]
          },
          "metadata": {
            "tags": []
          },
          "execution_count": 56
        }
      ]
    },
    {
      "cell_type": "code",
      "metadata": {
        "id": "-kEkiqoCXRYv",
        "colab": {
          "base_uri": "https://localhost:8080/"
        },
        "outputId": "f42b38c5-b1b5-491e-901e-64509b534900"
      },
      "source": [
        "#posts index mapping\n",
        "mapping = pd.Series(df.index,index = df['title'])\n",
        "mapping"
      ],
      "execution_count": null,
      "outputs": [
        {
          "output_type": "execute_result",
          "data": {
            "text/plain": [
              "title\n",
              "hello there                                                              0\n",
              "Ml and AI                                                                1\n",
              "What is an Operating System ?                                            2\n",
              "Lord Shiva                                                               3\n",
              "How Competition law evolved?                                             4\n",
              "                                                                      ... \n",
              "CI/CD using GitHub Actions                                             488\n",
              "Configure Docker with Django; PostgreSQL; Pg-admin & Elasticsearch     489\n",
              "Recommendation Engine                                                  490\n",
              "Face Recognition using Transfer Learning.                              491\n",
              "Configure CI/CD Pipeline in GitLab and deployment to server via SSH    492\n",
              "Length: 493, dtype: int64"
            ]
          },
          "metadata": {
            "tags": []
          },
          "execution_count": 57
        }
      ]
    },
    {
      "cell_type": "code",
      "metadata": {
        "id": "c49pD_DoYKTP"
      },
      "source": [
        "def recommend_Posts_based_on_plot(title):\n",
        "  post_index= mapping[title]\n",
        "  #get similarity values with other Posts\n",
        "  #similarity_score is the list of index and similarity matrix\n",
        "  similarity_score = list(enumerate(similarity_matrix[post_index]))\n",
        "  #sort in descending order the similarity score of Posts inputted with all the other Post\n",
        "  similarity_score = sorted(similarity_score, key=lambda x: x[1], reverse=True)\n",
        "  # Get the scores of the 15 most similar Post. \n",
        "  similarity_score = similarity_score[1:10]\n",
        "  #return Posts names using the mapping series\n",
        "  Posts_indices = [i[0] for i in similarity_score]\n",
        "  return (df['title'].iloc[Posts_indices])"
      ],
      "execution_count": null,
      "outputs": []
    },
    {
      "cell_type": "code",
      "metadata": {
        "id": "jzDaDYdFZKwZ",
        "colab": {
          "base_uri": "https://localhost:8080/"
        },
        "outputId": "310131b4-dd96-4dab-f32f-5fb2426ae719"
      },
      "source": [
        "print(recommend_Posts_based_on_plot('Ml and AI'))#input post title and recommend post similar to that post"
      ],
      "execution_count": null,
      "outputs": [
        {
          "output_type": "stream",
          "text": [
            "122                              Artificial Intelligence\n",
            "170                                         Types Of AI.\n",
            "186    7 Best Python Data Science Courses & Certifica...\n",
            "224    10 Best Artificial Intelligence (AI) Courses O...\n",
            "450               Machine Learning”&“Operations\" (MlOps)\n",
            "454                                   GAN's INTRODUCTION\n",
            "455                                        GAN's Part(2)\n",
            "456                   Recommend Systems Machine Learning\n",
            "486                                          Learning...\n",
            "Name: title, dtype: object\n"
          ],
          "name": "stdout"
        }
      ]
    },
    {
      "cell_type": "code",
      "metadata": {
        "id": "4vDkH-yWZb6o",
        "colab": {
          "base_uri": "https://localhost:8080/"
        },
        "outputId": "94f9cb4d-2958-4dc2-ca2a-57078eecd04c"
      },
      "source": [
        "print(recommend_Posts_based_on_plot('Artificial Intelligence'))#input post title and recommend post similar to that post"
      ],
      "execution_count": null,
      "outputs": [
        {
          "output_type": "stream",
          "text": [
            "170                                         Types Of AI.\n",
            "169             What sports will look like in the future\n",
            "1                                              Ml and AI\n",
            "291             8 Best Machine Learning Courses for 2020\n",
            "375    6 Best + Free PLC Programming Training & Cours...\n",
            "292    10 Best UI UX Design Course & Certification [2...\n",
            "106                                Topology & it's types\n",
            "107                                 Baseband & Broadband\n",
            "108                                   Information System\n",
            "Name: title, dtype: object\n"
          ],
          "name": "stdout"
        }
      ]
    },
    {
      "cell_type": "code",
      "metadata": {
        "id": "sDN9SNG8cAhJ",
        "colab": {
          "base_uri": "https://localhost:8080/"
        },
        "outputId": "12b74c5b-e057-41ff-9e83-fd51dcbd9fe6"
      },
      "source": [
        "print(recommend_Posts_based_on_plot('Lord Shiva'))"
      ],
      "execution_count": null,
      "outputs": [
        {
          "output_type": "stream",
          "text": [
            "11          Trident\n",
            "12       Lord shiva\n",
            "15           Kid Bu\n",
            "26    Shadow Sketch\n",
            "30       The Chosen\n",
            "34          Spartan\n",
            "45     ROMAN REIGNS\n",
            "46               OM\n",
            "47        MK Swords\n",
            "Name: title, dtype: object\n"
          ],
          "name": "stdout"
        }
      ]
    },
    {
      "cell_type": "code",
      "metadata": {
        "id": "BsNUX5yLcmm5"
      },
      "source": [
        ""
      ],
      "execution_count": null,
      "outputs": []
    }
  ]
}